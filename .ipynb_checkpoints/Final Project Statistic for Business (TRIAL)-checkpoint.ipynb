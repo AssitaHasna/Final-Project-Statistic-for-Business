{
 "cells": [
  {
   "cell_type": "markdown",
   "id": "3ef0ce0b",
   "metadata": {},
   "source": [
    "# Load Data"
   ]
  },
  {
   "cell_type": "code",
   "execution_count": 22,
   "id": "d45ae2d6",
   "metadata": {},
   "outputs": [],
   "source": [
    "# load data\n",
    "import pandas as pd\n",
    "import numpy as np\n",
    "\n",
    "# visualization\n",
    "import matplotlib.pyplot as plt\n",
    "import seaborn as sns\n",
    "import plotly.graph_objs as go\n",
    "import plotly.express as px\n",
    "from plotly.subplots import make_subplots\n",
    "# modelling\n",
    "import statsmodels.formula.api as smf\n",
    "\n",
    "# statistics \n",
    "import scipy.stats as stats\n",
    "\n",
    "# After EDA\n",
    "from sklearn.preprocessing import MinMaxScaler\n",
    "from sklearn.model_selection import train_test_split, KFold, GridSearchCV\n",
    "from sklearn.metrics import mean_absolute_error\n",
    "from sklearn.neighbors import KNeighborsRegressor as KNNR\n",
    "from sklearn.tree import DecisionTreeRegressor as DTR\n",
    "from sklearn.ensemble import RandomForestRegressor as RFR\n",
    "from sklearn.ensemble import GradientBoostingRegressor as GBR"
   ]
  },
  {
   "cell_type": "code",
   "execution_count": 20,
   "id": "c01a900b",
   "metadata": {},
   "outputs": [],
   "source": [
    "def print_coef_std_err(results):\n",
    "    \"\"\"\n",
    "    Function to combine estimated coefficients and standard error in one DataFrame\n",
    "    :param results: <statsmodels RegressionResultsWrapper> OLS regression results from \n",
    "    :return happiness: <pandas DataFrame> \n",
    "    \"\"\"\n",
    "    coef = results.params\n",
    "    std_err = results.bse\n",
    "    \n",
    "    happiness = pd.DataFrame(data = np.transpose([coef, std_err]), \n",
    "                      index = coef.index, \n",
    "                      columns=[\"coef\",\"std err\"])\n",
    "    return happiness"
   ]
  },
  {
   "cell_type": "code",
   "execution_count": 57,
   "id": "2241bcf8",
   "metadata": {
    "scrolled": true
   },
   "outputs": [
    {
     "data": {
      "text/html": [
       "<div>\n",
       "<style scoped>\n",
       "    .dataframe tbody tr th:only-of-type {\n",
       "        vertical-align: middle;\n",
       "    }\n",
       "\n",
       "    .dataframe tbody tr th {\n",
       "        vertical-align: top;\n",
       "    }\n",
       "\n",
       "    .dataframe thead th {\n",
       "        text-align: right;\n",
       "    }\n",
       "</style>\n",
       "<table border=\"1\" class=\"dataframe\">\n",
       "  <thead>\n",
       "    <tr style=\"text-align: right;\">\n",
       "      <th></th>\n",
       "      <th>Country Name</th>\n",
       "      <th>Regional Indicator</th>\n",
       "      <th>Year</th>\n",
       "      <th>Life Ladder</th>\n",
       "      <th>Log GDP Per Capita</th>\n",
       "      <th>Social Support</th>\n",
       "      <th>Healthy Life Expectancy At Birth</th>\n",
       "      <th>Freedom To Make Life Choices</th>\n",
       "      <th>Generosity</th>\n",
       "      <th>Perceptions Of Corruption</th>\n",
       "      <th>Positive Affect</th>\n",
       "      <th>Negative Affect</th>\n",
       "      <th>Confidence In National Government</th>\n",
       "    </tr>\n",
       "  </thead>\n",
       "  <tbody>\n",
       "    <tr>\n",
       "      <th>0</th>\n",
       "      <td>Afghanistan</td>\n",
       "      <td>South Asia</td>\n",
       "      <td>2008</td>\n",
       "      <td>3.723590</td>\n",
       "      <td>7.350416</td>\n",
       "      <td>0.450662</td>\n",
       "      <td>50.500000</td>\n",
       "      <td>0.718114</td>\n",
       "      <td>0.167652</td>\n",
       "      <td>0.881686</td>\n",
       "      <td>0.414297</td>\n",
       "      <td>0.258195</td>\n",
       "      <td>0.612072</td>\n",
       "    </tr>\n",
       "    <tr>\n",
       "      <th>1</th>\n",
       "      <td>Afghanistan</td>\n",
       "      <td>South Asia</td>\n",
       "      <td>2009</td>\n",
       "      <td>4.401778</td>\n",
       "      <td>7.508646</td>\n",
       "      <td>0.552308</td>\n",
       "      <td>50.799999</td>\n",
       "      <td>0.678896</td>\n",
       "      <td>0.190809</td>\n",
       "      <td>0.850035</td>\n",
       "      <td>0.481421</td>\n",
       "      <td>0.237092</td>\n",
       "      <td>0.611545</td>\n",
       "    </tr>\n",
       "    <tr>\n",
       "      <th>2</th>\n",
       "      <td>Afghanistan</td>\n",
       "      <td>South Asia</td>\n",
       "      <td>2010</td>\n",
       "      <td>4.758381</td>\n",
       "      <td>7.613900</td>\n",
       "      <td>0.539075</td>\n",
       "      <td>51.099998</td>\n",
       "      <td>0.600127</td>\n",
       "      <td>0.121316</td>\n",
       "      <td>0.706766</td>\n",
       "      <td>0.516907</td>\n",
       "      <td>0.275324</td>\n",
       "      <td>0.299357</td>\n",
       "    </tr>\n",
       "    <tr>\n",
       "      <th>3</th>\n",
       "      <td>Afghanistan</td>\n",
       "      <td>South Asia</td>\n",
       "      <td>2011</td>\n",
       "      <td>3.831719</td>\n",
       "      <td>7.581259</td>\n",
       "      <td>0.521104</td>\n",
       "      <td>51.400002</td>\n",
       "      <td>0.495901</td>\n",
       "      <td>0.163571</td>\n",
       "      <td>0.731109</td>\n",
       "      <td>0.479835</td>\n",
       "      <td>0.267175</td>\n",
       "      <td>0.307386</td>\n",
       "    </tr>\n",
       "    <tr>\n",
       "      <th>4</th>\n",
       "      <td>Afghanistan</td>\n",
       "      <td>South Asia</td>\n",
       "      <td>2012</td>\n",
       "      <td>3.782938</td>\n",
       "      <td>7.660506</td>\n",
       "      <td>0.520637</td>\n",
       "      <td>51.700001</td>\n",
       "      <td>0.530935</td>\n",
       "      <td>0.237588</td>\n",
       "      <td>0.775620</td>\n",
       "      <td>0.613513</td>\n",
       "      <td>0.267919</td>\n",
       "      <td>0.435440</td>\n",
       "    </tr>\n",
       "    <tr>\n",
       "      <th>5</th>\n",
       "      <td>Afghanistan</td>\n",
       "      <td>South Asia</td>\n",
       "      <td>2013</td>\n",
       "      <td>3.572100</td>\n",
       "      <td>7.680333</td>\n",
       "      <td>0.483552</td>\n",
       "      <td>52.000000</td>\n",
       "      <td>0.577955</td>\n",
       "      <td>0.062666</td>\n",
       "      <td>0.823204</td>\n",
       "      <td>0.547417</td>\n",
       "      <td>0.273328</td>\n",
       "      <td>0.482847</td>\n",
       "    </tr>\n",
       "    <tr>\n",
       "      <th>6</th>\n",
       "      <td>Afghanistan</td>\n",
       "      <td>South Asia</td>\n",
       "      <td>2014</td>\n",
       "      <td>3.130896</td>\n",
       "      <td>7.670638</td>\n",
       "      <td>0.525568</td>\n",
       "      <td>52.299999</td>\n",
       "      <td>0.508514</td>\n",
       "      <td>0.105755</td>\n",
       "      <td>0.871242</td>\n",
       "      <td>0.491641</td>\n",
       "      <td>0.374861</td>\n",
       "      <td>0.409048</td>\n",
       "    </tr>\n",
       "    <tr>\n",
       "      <th>7</th>\n",
       "      <td>Afghanistan</td>\n",
       "      <td>South Asia</td>\n",
       "      <td>2015</td>\n",
       "      <td>3.982855</td>\n",
       "      <td>7.653833</td>\n",
       "      <td>0.528597</td>\n",
       "      <td>52.599998</td>\n",
       "      <td>0.388928</td>\n",
       "      <td>0.081652</td>\n",
       "      <td>0.880638</td>\n",
       "      <td>0.491410</td>\n",
       "      <td>0.339276</td>\n",
       "      <td>0.260557</td>\n",
       "    </tr>\n",
       "    <tr>\n",
       "      <th>8</th>\n",
       "      <td>Afghanistan</td>\n",
       "      <td>South Asia</td>\n",
       "      <td>2016</td>\n",
       "      <td>4.220169</td>\n",
       "      <td>7.650370</td>\n",
       "      <td>0.559072</td>\n",
       "      <td>52.924999</td>\n",
       "      <td>0.522566</td>\n",
       "      <td>0.043916</td>\n",
       "      <td>0.793246</td>\n",
       "      <td>0.501409</td>\n",
       "      <td>0.348332</td>\n",
       "      <td>0.324990</td>\n",
       "    </tr>\n",
       "    <tr>\n",
       "      <th>9</th>\n",
       "      <td>Afghanistan</td>\n",
       "      <td>South Asia</td>\n",
       "      <td>2017</td>\n",
       "      <td>2.661718</td>\n",
       "      <td>7.647830</td>\n",
       "      <td>0.490880</td>\n",
       "      <td>53.250000</td>\n",
       "      <td>0.427011</td>\n",
       "      <td>-0.119410</td>\n",
       "      <td>0.954393</td>\n",
       "      <td>0.435270</td>\n",
       "      <td>0.371326</td>\n",
       "      <td>0.261179</td>\n",
       "    </tr>\n",
       "    <tr>\n",
       "      <th>10</th>\n",
       "      <td>Afghanistan</td>\n",
       "      <td>South Asia</td>\n",
       "      <td>2018</td>\n",
       "      <td>2.694303</td>\n",
       "      <td>7.630801</td>\n",
       "      <td>0.507516</td>\n",
       "      <td>53.575001</td>\n",
       "      <td>0.373536</td>\n",
       "      <td>-0.091106</td>\n",
       "      <td>0.927606</td>\n",
       "      <td>0.384561</td>\n",
       "      <td>0.404904</td>\n",
       "      <td>0.364666</td>\n",
       "    </tr>\n",
       "    <tr>\n",
       "      <th>11</th>\n",
       "      <td>Afghanistan</td>\n",
       "      <td>South Asia</td>\n",
       "      <td>2019</td>\n",
       "      <td>2.375092</td>\n",
       "      <td>7.640086</td>\n",
       "      <td>0.419973</td>\n",
       "      <td>53.900002</td>\n",
       "      <td>0.393656</td>\n",
       "      <td>-0.106016</td>\n",
       "      <td>0.923849</td>\n",
       "      <td>0.324108</td>\n",
       "      <td>0.502474</td>\n",
       "      <td>0.341482</td>\n",
       "    </tr>\n",
       "    <tr>\n",
       "      <th>12</th>\n",
       "      <td>Afghanistan</td>\n",
       "      <td>South Asia</td>\n",
       "      <td>2021</td>\n",
       "      <td>2.436034</td>\n",
       "      <td>7.324032</td>\n",
       "      <td>0.454175</td>\n",
       "      <td>54.549999</td>\n",
       "      <td>0.394306</td>\n",
       "      <td>-0.081011</td>\n",
       "      <td>0.946299</td>\n",
       "      <td>0.178886</td>\n",
       "      <td>0.606713</td>\n",
       "      <td>0.255620</td>\n",
       "    </tr>\n",
       "    <tr>\n",
       "      <th>13</th>\n",
       "      <td>Afghanistan</td>\n",
       "      <td>South Asia</td>\n",
       "      <td>2022</td>\n",
       "      <td>1.281271</td>\n",
       "      <td>NaN</td>\n",
       "      <td>0.228217</td>\n",
       "      <td>54.875000</td>\n",
       "      <td>0.368377</td>\n",
       "      <td>NaN</td>\n",
       "      <td>0.733198</td>\n",
       "      <td>0.205868</td>\n",
       "      <td>0.575512</td>\n",
       "      <td>NaN</td>\n",
       "    </tr>\n",
       "    <tr>\n",
       "      <th>14</th>\n",
       "      <td>Albania</td>\n",
       "      <td>Central and Eastern Europe</td>\n",
       "      <td>2007</td>\n",
       "      <td>4.634252</td>\n",
       "      <td>9.121704</td>\n",
       "      <td>0.821372</td>\n",
       "      <td>66.760002</td>\n",
       "      <td>0.528605</td>\n",
       "      <td>-0.010429</td>\n",
       "      <td>0.874700</td>\n",
       "      <td>0.488819</td>\n",
       "      <td>0.246335</td>\n",
       "      <td>0.300681</td>\n",
       "    </tr>\n",
       "    <tr>\n",
       "      <th>15</th>\n",
       "      <td>Albania</td>\n",
       "      <td>Central and Eastern Europe</td>\n",
       "      <td>2009</td>\n",
       "      <td>5.485470</td>\n",
       "      <td>9.241429</td>\n",
       "      <td>0.833047</td>\n",
       "      <td>67.320000</td>\n",
       "      <td>0.525223</td>\n",
       "      <td>-0.159259</td>\n",
       "      <td>0.863665</td>\n",
       "      <td>0.564474</td>\n",
       "      <td>0.279257</td>\n",
       "      <td>NaN</td>\n",
       "    </tr>\n",
       "    <tr>\n",
       "      <th>16</th>\n",
       "      <td>Albania</td>\n",
       "      <td>Central and Eastern Europe</td>\n",
       "      <td>2010</td>\n",
       "      <td>5.268937</td>\n",
       "      <td>9.282793</td>\n",
       "      <td>0.733152</td>\n",
       "      <td>67.599998</td>\n",
       "      <td>0.568958</td>\n",
       "      <td>-0.173675</td>\n",
       "      <td>0.726262</td>\n",
       "      <td>0.576077</td>\n",
       "      <td>0.300060</td>\n",
       "      <td>NaN</td>\n",
       "    </tr>\n",
       "    <tr>\n",
       "      <th>17</th>\n",
       "      <td>Albania</td>\n",
       "      <td>Central and Eastern Europe</td>\n",
       "      <td>2011</td>\n",
       "      <td>5.867422</td>\n",
       "      <td>9.310619</td>\n",
       "      <td>0.759434</td>\n",
       "      <td>67.879997</td>\n",
       "      <td>0.487496</td>\n",
       "      <td>-0.206186</td>\n",
       "      <td>0.877003</td>\n",
       "      <td>0.565759</td>\n",
       "      <td>0.256577</td>\n",
       "      <td>NaN</td>\n",
       "    </tr>\n",
       "    <tr>\n",
       "      <th>18</th>\n",
       "      <td>Albania</td>\n",
       "      <td>Central and Eastern Europe</td>\n",
       "      <td>2012</td>\n",
       "      <td>5.510124</td>\n",
       "      <td>9.326344</td>\n",
       "      <td>0.784502</td>\n",
       "      <td>68.160004</td>\n",
       "      <td>0.601512</td>\n",
       "      <td>-0.170467</td>\n",
       "      <td>0.847675</td>\n",
       "      <td>0.553473</td>\n",
       "      <td>0.271393</td>\n",
       "      <td>0.364894</td>\n",
       "    </tr>\n",
       "    <tr>\n",
       "      <th>19</th>\n",
       "      <td>Albania</td>\n",
       "      <td>Central and Eastern Europe</td>\n",
       "      <td>2013</td>\n",
       "      <td>4.550648</td>\n",
       "      <td>9.338146</td>\n",
       "      <td>0.759477</td>\n",
       "      <td>68.440002</td>\n",
       "      <td>0.631830</td>\n",
       "      <td>-0.128825</td>\n",
       "      <td>0.862905</td>\n",
       "      <td>0.540751</td>\n",
       "      <td>0.338379</td>\n",
       "      <td>0.338095</td>\n",
       "    </tr>\n",
       "  </tbody>\n",
       "</table>\n",
       "</div>"
      ],
      "text/plain": [
       "   Country Name          Regional Indicator  Year  Life Ladder  \\\n",
       "0   Afghanistan                  South Asia  2008     3.723590   \n",
       "1   Afghanistan                  South Asia  2009     4.401778   \n",
       "2   Afghanistan                  South Asia  2010     4.758381   \n",
       "3   Afghanistan                  South Asia  2011     3.831719   \n",
       "4   Afghanistan                  South Asia  2012     3.782938   \n",
       "5   Afghanistan                  South Asia  2013     3.572100   \n",
       "6   Afghanistan                  South Asia  2014     3.130896   \n",
       "7   Afghanistan                  South Asia  2015     3.982855   \n",
       "8   Afghanistan                  South Asia  2016     4.220169   \n",
       "9   Afghanistan                  South Asia  2017     2.661718   \n",
       "10  Afghanistan                  South Asia  2018     2.694303   \n",
       "11  Afghanistan                  South Asia  2019     2.375092   \n",
       "12  Afghanistan                  South Asia  2021     2.436034   \n",
       "13  Afghanistan                  South Asia  2022     1.281271   \n",
       "14      Albania  Central and Eastern Europe  2007     4.634252   \n",
       "15      Albania  Central and Eastern Europe  2009     5.485470   \n",
       "16      Albania  Central and Eastern Europe  2010     5.268937   \n",
       "17      Albania  Central and Eastern Europe  2011     5.867422   \n",
       "18      Albania  Central and Eastern Europe  2012     5.510124   \n",
       "19      Albania  Central and Eastern Europe  2013     4.550648   \n",
       "\n",
       "    Log GDP Per Capita  Social Support  Healthy Life Expectancy At Birth  \\\n",
       "0             7.350416        0.450662                         50.500000   \n",
       "1             7.508646        0.552308                         50.799999   \n",
       "2             7.613900        0.539075                         51.099998   \n",
       "3             7.581259        0.521104                         51.400002   \n",
       "4             7.660506        0.520637                         51.700001   \n",
       "5             7.680333        0.483552                         52.000000   \n",
       "6             7.670638        0.525568                         52.299999   \n",
       "7             7.653833        0.528597                         52.599998   \n",
       "8             7.650370        0.559072                         52.924999   \n",
       "9             7.647830        0.490880                         53.250000   \n",
       "10            7.630801        0.507516                         53.575001   \n",
       "11            7.640086        0.419973                         53.900002   \n",
       "12            7.324032        0.454175                         54.549999   \n",
       "13                 NaN        0.228217                         54.875000   \n",
       "14            9.121704        0.821372                         66.760002   \n",
       "15            9.241429        0.833047                         67.320000   \n",
       "16            9.282793        0.733152                         67.599998   \n",
       "17            9.310619        0.759434                         67.879997   \n",
       "18            9.326344        0.784502                         68.160004   \n",
       "19            9.338146        0.759477                         68.440002   \n",
       "\n",
       "    Freedom To Make Life Choices  Generosity  Perceptions Of Corruption  \\\n",
       "0                       0.718114    0.167652                   0.881686   \n",
       "1                       0.678896    0.190809                   0.850035   \n",
       "2                       0.600127    0.121316                   0.706766   \n",
       "3                       0.495901    0.163571                   0.731109   \n",
       "4                       0.530935    0.237588                   0.775620   \n",
       "5                       0.577955    0.062666                   0.823204   \n",
       "6                       0.508514    0.105755                   0.871242   \n",
       "7                       0.388928    0.081652                   0.880638   \n",
       "8                       0.522566    0.043916                   0.793246   \n",
       "9                       0.427011   -0.119410                   0.954393   \n",
       "10                      0.373536   -0.091106                   0.927606   \n",
       "11                      0.393656   -0.106016                   0.923849   \n",
       "12                      0.394306   -0.081011                   0.946299   \n",
       "13                      0.368377         NaN                   0.733198   \n",
       "14                      0.528605   -0.010429                   0.874700   \n",
       "15                      0.525223   -0.159259                   0.863665   \n",
       "16                      0.568958   -0.173675                   0.726262   \n",
       "17                      0.487496   -0.206186                   0.877003   \n",
       "18                      0.601512   -0.170467                   0.847675   \n",
       "19                      0.631830   -0.128825                   0.862905   \n",
       "\n",
       "    Positive Affect  Negative Affect  Confidence In National Government  \n",
       "0          0.414297         0.258195                           0.612072  \n",
       "1          0.481421         0.237092                           0.611545  \n",
       "2          0.516907         0.275324                           0.299357  \n",
       "3          0.479835         0.267175                           0.307386  \n",
       "4          0.613513         0.267919                           0.435440  \n",
       "5          0.547417         0.273328                           0.482847  \n",
       "6          0.491641         0.374861                           0.409048  \n",
       "7          0.491410         0.339276                           0.260557  \n",
       "8          0.501409         0.348332                           0.324990  \n",
       "9          0.435270         0.371326                           0.261179  \n",
       "10         0.384561         0.404904                           0.364666  \n",
       "11         0.324108         0.502474                           0.341482  \n",
       "12         0.178886         0.606713                           0.255620  \n",
       "13         0.205868         0.575512                                NaN  \n",
       "14         0.488819         0.246335                           0.300681  \n",
       "15         0.564474         0.279257                                NaN  \n",
       "16         0.576077         0.300060                                NaN  \n",
       "17         0.565759         0.256577                                NaN  \n",
       "18         0.553473         0.271393                           0.364894  \n",
       "19         0.540751         0.338379                           0.338095  "
      ]
     },
     "execution_count": 57,
     "metadata": {},
     "output_type": "execute_result"
    }
   ],
   "source": [
    "happiness = pd.read_csv(\"World_Happiness_Report.csv\")\n",
    "happiness.head(20)"
   ]
  },
  {
   "cell_type": "markdown",
   "id": "538c102a",
   "metadata": {},
   "source": [
    "# Checking Missing Value"
   ]
  },
  {
   "cell_type": "code",
   "execution_count": 58,
   "id": "78d4143f",
   "metadata": {},
   "outputs": [
    {
     "data": {
      "text/plain": [
       "Country Name                          object\n",
       "Regional Indicator                    object\n",
       "Year                                   int64\n",
       "Life Ladder                          float64\n",
       "Log GDP Per Capita                   float64\n",
       "Social Support                       float64\n",
       "Healthy Life Expectancy At Birth     float64\n",
       "Freedom To Make Life Choices         float64\n",
       "Generosity                           float64\n",
       "Perceptions Of Corruption            float64\n",
       "Positive Affect                      float64\n",
       "Negative Affect                      float64\n",
       "Confidence In National Government    float64\n",
       "dtype: object"
      ]
     },
     "execution_count": 58,
     "metadata": {},
     "output_type": "execute_result"
    }
   ],
   "source": [
    "happiness.dtypes"
   ]
  },
  {
   "cell_type": "code",
   "execution_count": 59,
   "id": "01cdb716",
   "metadata": {},
   "outputs": [
    {
     "data": {
      "text/plain": [
       "Country Name                           0\n",
       "Regional Indicator                     0\n",
       "Year                                   0\n",
       "Life Ladder                            0\n",
       "Log GDP Per Capita                    20\n",
       "Social Support                        13\n",
       "Healthy Life Expectancy At Birth      54\n",
       "Freedom To Make Life Choices          33\n",
       "Generosity                            73\n",
       "Perceptions Of Corruption            116\n",
       "Positive Affect                       24\n",
       "Negative Affect                       16\n",
       "Confidence In National Government    361\n",
       "dtype: int64"
      ]
     },
     "execution_count": 59,
     "metadata": {},
     "output_type": "execute_result"
    }
   ],
   "source": [
    "# checking missing value\n",
    "happiness.isnull().sum()"
   ]
  },
  {
   "cell_type": "code",
   "execution_count": 66,
   "id": "ea3c6d8a",
   "metadata": {},
   "outputs": [
    {
     "data": {
      "text/html": [
       "<div>\n",
       "<style scoped>\n",
       "    .dataframe tbody tr th:only-of-type {\n",
       "        vertical-align: middle;\n",
       "    }\n",
       "\n",
       "    .dataframe tbody tr th {\n",
       "        vertical-align: top;\n",
       "    }\n",
       "\n",
       "    .dataframe thead th {\n",
       "        text-align: right;\n",
       "    }\n",
       "</style>\n",
       "<table border=\"1\" class=\"dataframe\">\n",
       "  <thead>\n",
       "    <tr style=\"text-align: right;\">\n",
       "      <th></th>\n",
       "      <th>Country Name</th>\n",
       "      <th>Regional Indicator</th>\n",
       "      <th>Year</th>\n",
       "      <th>Life Ladder</th>\n",
       "      <th>Log GDP Per Capita</th>\n",
       "      <th>Social Support</th>\n",
       "      <th>Healthy Life Expectancy At Birth</th>\n",
       "      <th>Freedom To Make Life Choices</th>\n",
       "      <th>Generosity</th>\n",
       "      <th>Perceptions Of Corruption</th>\n",
       "      <th>Positive Affect</th>\n",
       "      <th>Negative Affect</th>\n",
       "      <th>Confidence In National Government</th>\n",
       "    </tr>\n",
       "  </thead>\n",
       "  <tbody>\n",
       "    <tr>\n",
       "      <th>0</th>\n",
       "      <td>Afghanistan</td>\n",
       "      <td>South Asia</td>\n",
       "      <td>2008</td>\n",
       "      <td>3.723590</td>\n",
       "      <td>7.350416</td>\n",
       "      <td>0.450662</td>\n",
       "      <td>50.500000</td>\n",
       "      <td>0.718114</td>\n",
       "      <td>0.167652</td>\n",
       "      <td>0.881686</td>\n",
       "      <td>0.414297</td>\n",
       "      <td>0.258195</td>\n",
       "      <td>0.612072</td>\n",
       "    </tr>\n",
       "    <tr>\n",
       "      <th>1</th>\n",
       "      <td>Afghanistan</td>\n",
       "      <td>South Asia</td>\n",
       "      <td>2009</td>\n",
       "      <td>4.401778</td>\n",
       "      <td>7.508646</td>\n",
       "      <td>0.552308</td>\n",
       "      <td>50.799999</td>\n",
       "      <td>0.678896</td>\n",
       "      <td>0.190809</td>\n",
       "      <td>0.850035</td>\n",
       "      <td>0.481421</td>\n",
       "      <td>0.237092</td>\n",
       "      <td>0.611545</td>\n",
       "    </tr>\n",
       "    <tr>\n",
       "      <th>2</th>\n",
       "      <td>Afghanistan</td>\n",
       "      <td>South Asia</td>\n",
       "      <td>2010</td>\n",
       "      <td>4.758381</td>\n",
       "      <td>7.613900</td>\n",
       "      <td>0.539075</td>\n",
       "      <td>51.099998</td>\n",
       "      <td>0.600127</td>\n",
       "      <td>0.121316</td>\n",
       "      <td>0.706766</td>\n",
       "      <td>0.516907</td>\n",
       "      <td>0.275324</td>\n",
       "      <td>0.299357</td>\n",
       "    </tr>\n",
       "    <tr>\n",
       "      <th>3</th>\n",
       "      <td>Afghanistan</td>\n",
       "      <td>South Asia</td>\n",
       "      <td>2011</td>\n",
       "      <td>3.831719</td>\n",
       "      <td>7.581259</td>\n",
       "      <td>0.521104</td>\n",
       "      <td>51.400002</td>\n",
       "      <td>0.495901</td>\n",
       "      <td>0.163571</td>\n",
       "      <td>0.731109</td>\n",
       "      <td>0.479835</td>\n",
       "      <td>0.267175</td>\n",
       "      <td>0.307386</td>\n",
       "    </tr>\n",
       "    <tr>\n",
       "      <th>4</th>\n",
       "      <td>Afghanistan</td>\n",
       "      <td>South Asia</td>\n",
       "      <td>2012</td>\n",
       "      <td>3.782938</td>\n",
       "      <td>7.660506</td>\n",
       "      <td>0.520637</td>\n",
       "      <td>51.700001</td>\n",
       "      <td>0.530935</td>\n",
       "      <td>0.237588</td>\n",
       "      <td>0.775620</td>\n",
       "      <td>0.613513</td>\n",
       "      <td>0.267919</td>\n",
       "      <td>0.435440</td>\n",
       "    </tr>\n",
       "    <tr>\n",
       "      <th>...</th>\n",
       "      <td>...</td>\n",
       "      <td>...</td>\n",
       "      <td>...</td>\n",
       "      <td>...</td>\n",
       "      <td>...</td>\n",
       "      <td>...</td>\n",
       "      <td>...</td>\n",
       "      <td>...</td>\n",
       "      <td>...</td>\n",
       "      <td>...</td>\n",
       "      <td>...</td>\n",
       "      <td>...</td>\n",
       "      <td>...</td>\n",
       "    </tr>\n",
       "    <tr>\n",
       "      <th>2194</th>\n",
       "      <td>Zimbabwe</td>\n",
       "      <td>Sub-Saharan Africa</td>\n",
       "      <td>2018</td>\n",
       "      <td>3.616480</td>\n",
       "      <td>7.783066</td>\n",
       "      <td>0.775388</td>\n",
       "      <td>52.625000</td>\n",
       "      <td>0.762675</td>\n",
       "      <td>-0.051219</td>\n",
       "      <td>0.844209</td>\n",
       "      <td>0.657524</td>\n",
       "      <td>0.211726</td>\n",
       "      <td>0.550508</td>\n",
       "    </tr>\n",
       "    <tr>\n",
       "      <th>2195</th>\n",
       "      <td>Zimbabwe</td>\n",
       "      <td>Sub-Saharan Africa</td>\n",
       "      <td>2019</td>\n",
       "      <td>2.693523</td>\n",
       "      <td>7.697755</td>\n",
       "      <td>0.759162</td>\n",
       "      <td>53.099998</td>\n",
       "      <td>0.631908</td>\n",
       "      <td>-0.047464</td>\n",
       "      <td>0.830652</td>\n",
       "      <td>0.658434</td>\n",
       "      <td>0.235354</td>\n",
       "      <td>0.456455</td>\n",
       "    </tr>\n",
       "    <tr>\n",
       "      <th>2196</th>\n",
       "      <td>Zimbabwe</td>\n",
       "      <td>Sub-Saharan Africa</td>\n",
       "      <td>2020</td>\n",
       "      <td>3.159802</td>\n",
       "      <td>7.596050</td>\n",
       "      <td>0.717243</td>\n",
       "      <td>53.575001</td>\n",
       "      <td>0.643303</td>\n",
       "      <td>0.006313</td>\n",
       "      <td>0.788523</td>\n",
       "      <td>0.660658</td>\n",
       "      <td>0.345736</td>\n",
       "      <td>0.577302</td>\n",
       "    </tr>\n",
       "    <tr>\n",
       "      <th>2197</th>\n",
       "      <td>Zimbabwe</td>\n",
       "      <td>Sub-Saharan Africa</td>\n",
       "      <td>2021</td>\n",
       "      <td>3.154578</td>\n",
       "      <td>7.656878</td>\n",
       "      <td>0.685151</td>\n",
       "      <td>54.049999</td>\n",
       "      <td>0.667636</td>\n",
       "      <td>-0.075575</td>\n",
       "      <td>0.756945</td>\n",
       "      <td>0.609917</td>\n",
       "      <td>0.241682</td>\n",
       "      <td>0.665703</td>\n",
       "    </tr>\n",
       "    <tr>\n",
       "      <th>2198</th>\n",
       "      <td>Zimbabwe</td>\n",
       "      <td>Sub-Saharan Africa</td>\n",
       "      <td>2022</td>\n",
       "      <td>3.296220</td>\n",
       "      <td>7.670123</td>\n",
       "      <td>0.666172</td>\n",
       "      <td>54.525002</td>\n",
       "      <td>0.651987</td>\n",
       "      <td>-0.069513</td>\n",
       "      <td>0.752632</td>\n",
       "      <td>0.640609</td>\n",
       "      <td>0.191350</td>\n",
       "      <td>0.000000</td>\n",
       "    </tr>\n",
       "  </tbody>\n",
       "</table>\n",
       "<p>2199 rows × 13 columns</p>\n",
       "</div>"
      ],
      "text/plain": [
       "     Country Name  Regional Indicator  Year  Life Ladder  Log GDP Per Capita  \\\n",
       "0     Afghanistan          South Asia  2008     3.723590            7.350416   \n",
       "1     Afghanistan          South Asia  2009     4.401778            7.508646   \n",
       "2     Afghanistan          South Asia  2010     4.758381            7.613900   \n",
       "3     Afghanistan          South Asia  2011     3.831719            7.581259   \n",
       "4     Afghanistan          South Asia  2012     3.782938            7.660506   \n",
       "...           ...                 ...   ...          ...                 ...   \n",
       "2194     Zimbabwe  Sub-Saharan Africa  2018     3.616480            7.783066   \n",
       "2195     Zimbabwe  Sub-Saharan Africa  2019     2.693523            7.697755   \n",
       "2196     Zimbabwe  Sub-Saharan Africa  2020     3.159802            7.596050   \n",
       "2197     Zimbabwe  Sub-Saharan Africa  2021     3.154578            7.656878   \n",
       "2198     Zimbabwe  Sub-Saharan Africa  2022     3.296220            7.670123   \n",
       "\n",
       "      Social Support  Healthy Life Expectancy At Birth  \\\n",
       "0           0.450662                         50.500000   \n",
       "1           0.552308                         50.799999   \n",
       "2           0.539075                         51.099998   \n",
       "3           0.521104                         51.400002   \n",
       "4           0.520637                         51.700001   \n",
       "...              ...                               ...   \n",
       "2194        0.775388                         52.625000   \n",
       "2195        0.759162                         53.099998   \n",
       "2196        0.717243                         53.575001   \n",
       "2197        0.685151                         54.049999   \n",
       "2198        0.666172                         54.525002   \n",
       "\n",
       "      Freedom To Make Life Choices  Generosity  Perceptions Of Corruption  \\\n",
       "0                         0.718114    0.167652                   0.881686   \n",
       "1                         0.678896    0.190809                   0.850035   \n",
       "2                         0.600127    0.121316                   0.706766   \n",
       "3                         0.495901    0.163571                   0.731109   \n",
       "4                         0.530935    0.237588                   0.775620   \n",
       "...                            ...         ...                        ...   \n",
       "2194                      0.762675   -0.051219                   0.844209   \n",
       "2195                      0.631908   -0.047464                   0.830652   \n",
       "2196                      0.643303    0.006313                   0.788523   \n",
       "2197                      0.667636   -0.075575                   0.756945   \n",
       "2198                      0.651987   -0.069513                   0.752632   \n",
       "\n",
       "      Positive Affect  Negative Affect  Confidence In National Government  \n",
       "0            0.414297         0.258195                           0.612072  \n",
       "1            0.481421         0.237092                           0.611545  \n",
       "2            0.516907         0.275324                           0.299357  \n",
       "3            0.479835         0.267175                           0.307386  \n",
       "4            0.613513         0.267919                           0.435440  \n",
       "...               ...              ...                                ...  \n",
       "2194         0.657524         0.211726                           0.550508  \n",
       "2195         0.658434         0.235354                           0.456455  \n",
       "2196         0.660658         0.345736                           0.577302  \n",
       "2197         0.609917         0.241682                           0.665703  \n",
       "2198         0.640609         0.191350                           0.000000  \n",
       "\n",
       "[2199 rows x 13 columns]"
      ]
     },
     "execution_count": 66,
     "metadata": {},
     "output_type": "execute_result"
    }
   ],
   "source": [
    "happiness2 = happiness.fillna(value = 0)\n",
    "happiness2"
   ]
  },
  {
   "cell_type": "code",
   "execution_count": 67,
   "id": "c6bc6ab6",
   "metadata": {},
   "outputs": [
    {
     "data": {
      "text/plain": [
       "Country Name                         0\n",
       "Regional Indicator                   0\n",
       "Year                                 0\n",
       "Life Ladder                          0\n",
       "Log GDP Per Capita                   0\n",
       "Social Support                       0\n",
       "Healthy Life Expectancy At Birth     0\n",
       "Freedom To Make Life Choices         0\n",
       "Generosity                           0\n",
       "Perceptions Of Corruption            0\n",
       "Positive Affect                      0\n",
       "Negative Affect                      0\n",
       "Confidence In National Government    0\n",
       "dtype: int64"
      ]
     },
     "execution_count": 67,
     "metadata": {},
     "output_type": "execute_result"
    }
   ],
   "source": [
    "# checking missing value\n",
    "happiness2.isnull().sum()"
   ]
  },
  {
   "cell_type": "code",
   "execution_count": 19,
   "id": "5f8b737c",
   "metadata": {},
   "outputs": [
    {
     "name": "stdout",
     "output_type": "stream",
     "text": [
      "<class 'pandas.core.frame.DataFrame'>\n",
      "RangeIndex: 2199 entries, 0 to 2198\n",
      "Data columns (total 13 columns):\n",
      " #   Column                             Non-Null Count  Dtype  \n",
      "---  ------                             --------------  -----  \n",
      " 0   Country Name                       2199 non-null   object \n",
      " 1   Regional Indicator                 2087 non-null   object \n",
      " 2   Year                               2199 non-null   int64  \n",
      " 3   Life Ladder                        2199 non-null   float64\n",
      " 4   Log GDP Per Capita                 2179 non-null   float64\n",
      " 5   Social Support                     2186 non-null   float64\n",
      " 6   Healthy Life Expectancy At Birth   2145 non-null   float64\n",
      " 7   Freedom To Make Life Choices       2166 non-null   float64\n",
      " 8   Generosity                         2126 non-null   float64\n",
      " 9   Perceptions Of Corruption          2083 non-null   float64\n",
      " 10  Positive Affect                    2175 non-null   float64\n",
      " 11  Negative Affect                    2183 non-null   float64\n",
      " 12  Confidence In National Government  1838 non-null   float64\n",
      "dtypes: float64(10), int64(1), object(2)\n",
      "memory usage: 223.5+ KB\n"
     ]
    }
   ],
   "source": [
    "happiness.info()"
   ]
  },
  {
   "cell_type": "code",
   "execution_count": 15,
   "id": "985e11a5",
   "metadata": {},
   "outputs": [
    {
     "data": {
      "text/plain": [
       "(2199, 13)"
      ]
     },
     "execution_count": 15,
     "metadata": {},
     "output_type": "execute_result"
    }
   ],
   "source": [
    "happiness.shape"
   ]
  },
  {
   "cell_type": "code",
   "execution_count": 60,
   "id": "f80bd13d",
   "metadata": {},
   "outputs": [
    {
     "data": {
      "text/plain": [
       "False    2199\n",
       "dtype: int64"
      ]
     },
     "execution_count": 60,
     "metadata": {},
     "output_type": "execute_result"
    }
   ],
   "source": [
    "happiness.duplicated().value_counts()"
   ]
  },
  {
   "cell_type": "markdown",
   "id": "1546e8bc",
   "metadata": {},
   "source": [
    "There is no duplicated value"
   ]
  },
  {
   "cell_type": "markdown",
   "id": "2be775d9",
   "metadata": {},
   "source": [
    "# Handling Missing Value"
   ]
  },
  {
   "cell_type": "markdown",
   "id": "9d13a0ef",
   "metadata": {},
   "source": [
    "nanti kasih alasan kenapa valuenya di ganti 0 misal memang data tidak atau belum tersedia."
   ]
  },
  {
   "cell_type": "code",
   "execution_count": 72,
   "id": "4a423535",
   "metadata": {},
   "outputs": [
    {
     "data": {
      "text/html": [
       "<div>\n",
       "<style scoped>\n",
       "    .dataframe tbody tr th:only-of-type {\n",
       "        vertical-align: middle;\n",
       "    }\n",
       "\n",
       "    .dataframe tbody tr th {\n",
       "        vertical-align: top;\n",
       "    }\n",
       "\n",
       "    .dataframe thead th {\n",
       "        text-align: right;\n",
       "    }\n",
       "</style>\n",
       "<table border=\"1\" class=\"dataframe\">\n",
       "  <thead>\n",
       "    <tr style=\"text-align: right;\">\n",
       "      <th></th>\n",
       "      <th>Country Name</th>\n",
       "      <th>Regional Indicator</th>\n",
       "      <th>Year</th>\n",
       "      <th>Life Ladder</th>\n",
       "      <th>Log GDP Per Capita</th>\n",
       "      <th>Social Support</th>\n",
       "      <th>Healthy Life Expectancy At Birth</th>\n",
       "      <th>Freedom To Make Life Choices</th>\n",
       "      <th>Generosity</th>\n",
       "      <th>Perceptions Of Corruption</th>\n",
       "      <th>Positive Affect</th>\n",
       "      <th>Negative Affect</th>\n",
       "      <th>Confidence In National Government</th>\n",
       "    </tr>\n",
       "  </thead>\n",
       "  <tbody>\n",
       "    <tr>\n",
       "      <th>0</th>\n",
       "      <td>Afghanistan</td>\n",
       "      <td>South Asia</td>\n",
       "      <td>2008</td>\n",
       "      <td>3.723590</td>\n",
       "      <td>7.350416</td>\n",
       "      <td>0.450662</td>\n",
       "      <td>50.500000</td>\n",
       "      <td>0.718114</td>\n",
       "      <td>0.167652</td>\n",
       "      <td>0.881686</td>\n",
       "      <td>0.414297</td>\n",
       "      <td>0.258195</td>\n",
       "      <td>0.612072</td>\n",
       "    </tr>\n",
       "    <tr>\n",
       "      <th>1</th>\n",
       "      <td>Afghanistan</td>\n",
       "      <td>South Asia</td>\n",
       "      <td>2009</td>\n",
       "      <td>4.401778</td>\n",
       "      <td>7.508646</td>\n",
       "      <td>0.552308</td>\n",
       "      <td>50.799999</td>\n",
       "      <td>0.678896</td>\n",
       "      <td>0.190809</td>\n",
       "      <td>0.850035</td>\n",
       "      <td>0.481421</td>\n",
       "      <td>0.237092</td>\n",
       "      <td>0.611545</td>\n",
       "    </tr>\n",
       "    <tr>\n",
       "      <th>2</th>\n",
       "      <td>Afghanistan</td>\n",
       "      <td>South Asia</td>\n",
       "      <td>2010</td>\n",
       "      <td>4.758381</td>\n",
       "      <td>7.613900</td>\n",
       "      <td>0.539075</td>\n",
       "      <td>51.099998</td>\n",
       "      <td>0.600127</td>\n",
       "      <td>0.121316</td>\n",
       "      <td>0.706766</td>\n",
       "      <td>0.516907</td>\n",
       "      <td>0.275324</td>\n",
       "      <td>0.299357</td>\n",
       "    </tr>\n",
       "    <tr>\n",
       "      <th>3</th>\n",
       "      <td>Afghanistan</td>\n",
       "      <td>South Asia</td>\n",
       "      <td>2011</td>\n",
       "      <td>3.831719</td>\n",
       "      <td>7.581259</td>\n",
       "      <td>0.521104</td>\n",
       "      <td>51.400002</td>\n",
       "      <td>0.495901</td>\n",
       "      <td>0.163571</td>\n",
       "      <td>0.731109</td>\n",
       "      <td>0.479835</td>\n",
       "      <td>0.267175</td>\n",
       "      <td>0.307386</td>\n",
       "    </tr>\n",
       "    <tr>\n",
       "      <th>4</th>\n",
       "      <td>Afghanistan</td>\n",
       "      <td>South Asia</td>\n",
       "      <td>2012</td>\n",
       "      <td>3.782938</td>\n",
       "      <td>7.660506</td>\n",
       "      <td>0.520637</td>\n",
       "      <td>51.700001</td>\n",
       "      <td>0.530935</td>\n",
       "      <td>0.237588</td>\n",
       "      <td>0.775620</td>\n",
       "      <td>0.613513</td>\n",
       "      <td>0.267919</td>\n",
       "      <td>0.435440</td>\n",
       "    </tr>\n",
       "    <tr>\n",
       "      <th>...</th>\n",
       "      <td>...</td>\n",
       "      <td>...</td>\n",
       "      <td>...</td>\n",
       "      <td>...</td>\n",
       "      <td>...</td>\n",
       "      <td>...</td>\n",
       "      <td>...</td>\n",
       "      <td>...</td>\n",
       "      <td>...</td>\n",
       "      <td>...</td>\n",
       "      <td>...</td>\n",
       "      <td>...</td>\n",
       "      <td>...</td>\n",
       "    </tr>\n",
       "    <tr>\n",
       "      <th>2193</th>\n",
       "      <td>Zimbabwe</td>\n",
       "      <td>Sub-Saharan Africa</td>\n",
       "      <td>2017</td>\n",
       "      <td>3.638300</td>\n",
       "      <td>7.754387</td>\n",
       "      <td>0.754147</td>\n",
       "      <td>52.150002</td>\n",
       "      <td>0.752826</td>\n",
       "      <td>-0.080725</td>\n",
       "      <td>0.751208</td>\n",
       "      <td>0.733641</td>\n",
       "      <td>0.224051</td>\n",
       "      <td>0.682647</td>\n",
       "    </tr>\n",
       "    <tr>\n",
       "      <th>2194</th>\n",
       "      <td>Zimbabwe</td>\n",
       "      <td>Sub-Saharan Africa</td>\n",
       "      <td>2018</td>\n",
       "      <td>3.616480</td>\n",
       "      <td>7.783066</td>\n",
       "      <td>0.775388</td>\n",
       "      <td>52.625000</td>\n",
       "      <td>0.762675</td>\n",
       "      <td>-0.051219</td>\n",
       "      <td>0.844209</td>\n",
       "      <td>0.657524</td>\n",
       "      <td>0.211726</td>\n",
       "      <td>0.550508</td>\n",
       "    </tr>\n",
       "    <tr>\n",
       "      <th>2195</th>\n",
       "      <td>Zimbabwe</td>\n",
       "      <td>Sub-Saharan Africa</td>\n",
       "      <td>2019</td>\n",
       "      <td>2.693523</td>\n",
       "      <td>7.697755</td>\n",
       "      <td>0.759162</td>\n",
       "      <td>53.099998</td>\n",
       "      <td>0.631908</td>\n",
       "      <td>-0.047464</td>\n",
       "      <td>0.830652</td>\n",
       "      <td>0.658434</td>\n",
       "      <td>0.235354</td>\n",
       "      <td>0.456455</td>\n",
       "    </tr>\n",
       "    <tr>\n",
       "      <th>2196</th>\n",
       "      <td>Zimbabwe</td>\n",
       "      <td>Sub-Saharan Africa</td>\n",
       "      <td>2020</td>\n",
       "      <td>3.159802</td>\n",
       "      <td>7.596050</td>\n",
       "      <td>0.717243</td>\n",
       "      <td>53.575001</td>\n",
       "      <td>0.643303</td>\n",
       "      <td>0.006313</td>\n",
       "      <td>0.788523</td>\n",
       "      <td>0.660658</td>\n",
       "      <td>0.345736</td>\n",
       "      <td>0.577302</td>\n",
       "    </tr>\n",
       "    <tr>\n",
       "      <th>2197</th>\n",
       "      <td>Zimbabwe</td>\n",
       "      <td>Sub-Saharan Africa</td>\n",
       "      <td>2021</td>\n",
       "      <td>3.154578</td>\n",
       "      <td>7.656878</td>\n",
       "      <td>0.685151</td>\n",
       "      <td>54.049999</td>\n",
       "      <td>0.667636</td>\n",
       "      <td>-0.075575</td>\n",
       "      <td>0.756945</td>\n",
       "      <td>0.609917</td>\n",
       "      <td>0.241682</td>\n",
       "      <td>0.665703</td>\n",
       "    </tr>\n",
       "  </tbody>\n",
       "</table>\n",
       "<p>1734 rows × 13 columns</p>\n",
       "</div>"
      ],
      "text/plain": [
       "     Country Name  Regional Indicator  Year  Life Ladder  Log GDP Per Capita  \\\n",
       "0     Afghanistan          South Asia  2008     3.723590            7.350416   \n",
       "1     Afghanistan          South Asia  2009     4.401778            7.508646   \n",
       "2     Afghanistan          South Asia  2010     4.758381            7.613900   \n",
       "3     Afghanistan          South Asia  2011     3.831719            7.581259   \n",
       "4     Afghanistan          South Asia  2012     3.782938            7.660506   \n",
       "...           ...                 ...   ...          ...                 ...   \n",
       "2193     Zimbabwe  Sub-Saharan Africa  2017     3.638300            7.754387   \n",
       "2194     Zimbabwe  Sub-Saharan Africa  2018     3.616480            7.783066   \n",
       "2195     Zimbabwe  Sub-Saharan Africa  2019     2.693523            7.697755   \n",
       "2196     Zimbabwe  Sub-Saharan Africa  2020     3.159802            7.596050   \n",
       "2197     Zimbabwe  Sub-Saharan Africa  2021     3.154578            7.656878   \n",
       "\n",
       "      Social Support  Healthy Life Expectancy At Birth  \\\n",
       "0           0.450662                         50.500000   \n",
       "1           0.552308                         50.799999   \n",
       "2           0.539075                         51.099998   \n",
       "3           0.521104                         51.400002   \n",
       "4           0.520637                         51.700001   \n",
       "...              ...                               ...   \n",
       "2193        0.754147                         52.150002   \n",
       "2194        0.775388                         52.625000   \n",
       "2195        0.759162                         53.099998   \n",
       "2196        0.717243                         53.575001   \n",
       "2197        0.685151                         54.049999   \n",
       "\n",
       "      Freedom To Make Life Choices  Generosity  Perceptions Of Corruption  \\\n",
       "0                         0.718114    0.167652                   0.881686   \n",
       "1                         0.678896    0.190809                   0.850035   \n",
       "2                         0.600127    0.121316                   0.706766   \n",
       "3                         0.495901    0.163571                   0.731109   \n",
       "4                         0.530935    0.237588                   0.775620   \n",
       "...                            ...         ...                        ...   \n",
       "2193                      0.752826   -0.080725                   0.751208   \n",
       "2194                      0.762675   -0.051219                   0.844209   \n",
       "2195                      0.631908   -0.047464                   0.830652   \n",
       "2196                      0.643303    0.006313                   0.788523   \n",
       "2197                      0.667636   -0.075575                   0.756945   \n",
       "\n",
       "      Positive Affect  Negative Affect  Confidence In National Government  \n",
       "0            0.414297         0.258195                           0.612072  \n",
       "1            0.481421         0.237092                           0.611545  \n",
       "2            0.516907         0.275324                           0.299357  \n",
       "3            0.479835         0.267175                           0.307386  \n",
       "4            0.613513         0.267919                           0.435440  \n",
       "...               ...              ...                                ...  \n",
       "2193         0.733641         0.224051                           0.682647  \n",
       "2194         0.657524         0.211726                           0.550508  \n",
       "2195         0.658434         0.235354                           0.456455  \n",
       "2196         0.660658         0.345736                           0.577302  \n",
       "2197         0.609917         0.241682                           0.665703  \n",
       "\n",
       "[1734 rows x 13 columns]"
      ]
     },
     "execution_count": 72,
     "metadata": {},
     "output_type": "execute_result"
    }
   ],
   "source": [
    "happiness3 = happiness.dropna(axis = 0)\n",
    "happiness3"
   ]
  },
  {
   "cell_type": "code",
   "execution_count": 73,
   "id": "e9f352d2",
   "metadata": {},
   "outputs": [
    {
     "data": {
      "text/plain": [
       "(1734, 13)"
      ]
     },
     "execution_count": 73,
     "metadata": {},
     "output_type": "execute_result"
    }
   ],
   "source": [
    "happiness3.shape"
   ]
  },
  {
   "cell_type": "code",
   "execution_count": 75,
   "id": "a478d9be",
   "metadata": {},
   "outputs": [
    {
     "data": {
      "text/html": [
       "<div>\n",
       "<style scoped>\n",
       "    .dataframe tbody tr th:only-of-type {\n",
       "        vertical-align: middle;\n",
       "    }\n",
       "\n",
       "    .dataframe tbody tr th {\n",
       "        vertical-align: top;\n",
       "    }\n",
       "\n",
       "    .dataframe thead th {\n",
       "        text-align: right;\n",
       "    }\n",
       "</style>\n",
       "<table border=\"1\" class=\"dataframe\">\n",
       "  <thead>\n",
       "    <tr style=\"text-align: right;\">\n",
       "      <th></th>\n",
       "      <th>Year</th>\n",
       "      <th>Life Ladder</th>\n",
       "      <th>Log GDP Per Capita</th>\n",
       "      <th>Social Support</th>\n",
       "      <th>Healthy Life Expectancy At Birth</th>\n",
       "      <th>Freedom To Make Life Choices</th>\n",
       "      <th>Generosity</th>\n",
       "      <th>Perceptions Of Corruption</th>\n",
       "      <th>Positive Affect</th>\n",
       "      <th>Negative Affect</th>\n",
       "      <th>Confidence In National Government</th>\n",
       "    </tr>\n",
       "  </thead>\n",
       "  <tbody>\n",
       "    <tr>\n",
       "      <th>count</th>\n",
       "      <td>1734.000000</td>\n",
       "      <td>1734.000000</td>\n",
       "      <td>1734.000000</td>\n",
       "      <td>1734.000000</td>\n",
       "      <td>1734.000000</td>\n",
       "      <td>1734.000000</td>\n",
       "      <td>1734.000000</td>\n",
       "      <td>1734.000000</td>\n",
       "      <td>1734.000000</td>\n",
       "      <td>1734.000000</td>\n",
       "      <td>1734.000000</td>\n",
       "    </tr>\n",
       "    <tr>\n",
       "      <th>mean</th>\n",
       "      <td>2013.896194</td>\n",
       "      <td>5.479487</td>\n",
       "      <td>9.339844</td>\n",
       "      <td>0.811619</td>\n",
       "      <td>62.980144</td>\n",
       "      <td>0.748205</td>\n",
       "      <td>0.002288</td>\n",
       "      <td>0.752078</td>\n",
       "      <td>0.659460</td>\n",
       "      <td>0.268957</td>\n",
       "      <td>0.484117</td>\n",
       "    </tr>\n",
       "    <tr>\n",
       "      <th>std</th>\n",
       "      <td>4.386895</td>\n",
       "      <td>1.149551</td>\n",
       "      <td>1.169197</td>\n",
       "      <td>0.122402</td>\n",
       "      <td>7.296147</td>\n",
       "      <td>0.136602</td>\n",
       "      <td>0.161471</td>\n",
       "      <td>0.184979</td>\n",
       "      <td>0.105132</td>\n",
       "      <td>0.081802</td>\n",
       "      <td>0.193863</td>\n",
       "    </tr>\n",
       "    <tr>\n",
       "      <th>min</th>\n",
       "      <td>2005.000000</td>\n",
       "      <td>2.178809</td>\n",
       "      <td>5.526723</td>\n",
       "      <td>0.290184</td>\n",
       "      <td>6.720000</td>\n",
       "      <td>0.260069</td>\n",
       "      <td>-0.337527</td>\n",
       "      <td>0.035198</td>\n",
       "      <td>0.178886</td>\n",
       "      <td>0.094316</td>\n",
       "      <td>0.078787</td>\n",
       "    </tr>\n",
       "    <tr>\n",
       "      <th>25%</th>\n",
       "      <td>2010.000000</td>\n",
       "      <td>4.611701</td>\n",
       "      <td>8.405855</td>\n",
       "      <td>0.743066</td>\n",
       "      <td>58.005000</td>\n",
       "      <td>0.658886</td>\n",
       "      <td>-0.106073</td>\n",
       "      <td>0.698852</td>\n",
       "      <td>0.578239</td>\n",
       "      <td>0.208292</td>\n",
       "      <td>0.331213</td>\n",
       "    </tr>\n",
       "    <tr>\n",
       "      <th>50%</th>\n",
       "      <td>2014.000000</td>\n",
       "      <td>5.431223</td>\n",
       "      <td>9.498372</td>\n",
       "      <td>0.839045</td>\n",
       "      <td>64.889999</td>\n",
       "      <td>0.768215</td>\n",
       "      <td>-0.021266</td>\n",
       "      <td>0.808559</td>\n",
       "      <td>0.670217</td>\n",
       "      <td>0.259357</td>\n",
       "      <td>0.467447</td>\n",
       "    </tr>\n",
       "    <tr>\n",
       "      <th>75%</th>\n",
       "      <td>2018.000000</td>\n",
       "      <td>6.321759</td>\n",
       "      <td>10.318173</td>\n",
       "      <td>0.908810</td>\n",
       "      <td>68.747499</td>\n",
       "      <td>0.856047</td>\n",
       "      <td>0.094132</td>\n",
       "      <td>0.876126</td>\n",
       "      <td>0.743923</td>\n",
       "      <td>0.317326</td>\n",
       "      <td>0.619676</td>\n",
       "    </tr>\n",
       "    <tr>\n",
       "      <th>max</th>\n",
       "      <td>2021.000000</td>\n",
       "      <td>7.970892</td>\n",
       "      <td>11.663788</td>\n",
       "      <td>0.987343</td>\n",
       "      <td>74.349998</td>\n",
       "      <td>0.985178</td>\n",
       "      <td>0.702708</td>\n",
       "      <td>0.983276</td>\n",
       "      <td>0.883586</td>\n",
       "      <td>0.606713</td>\n",
       "      <td>0.993604</td>\n",
       "    </tr>\n",
       "  </tbody>\n",
       "</table>\n",
       "</div>"
      ],
      "text/plain": [
       "              Year  Life Ladder  Log GDP Per Capita  Social Support  \\\n",
       "count  1734.000000  1734.000000         1734.000000     1734.000000   \n",
       "mean   2013.896194     5.479487            9.339844        0.811619   \n",
       "std       4.386895     1.149551            1.169197        0.122402   \n",
       "min    2005.000000     2.178809            5.526723        0.290184   \n",
       "25%    2010.000000     4.611701            8.405855        0.743066   \n",
       "50%    2014.000000     5.431223            9.498372        0.839045   \n",
       "75%    2018.000000     6.321759           10.318173        0.908810   \n",
       "max    2021.000000     7.970892           11.663788        0.987343   \n",
       "\n",
       "       Healthy Life Expectancy At Birth  Freedom To Make Life Choices  \\\n",
       "count                       1734.000000                   1734.000000   \n",
       "mean                          62.980144                      0.748205   \n",
       "std                            7.296147                      0.136602   \n",
       "min                            6.720000                      0.260069   \n",
       "25%                           58.005000                      0.658886   \n",
       "50%                           64.889999                      0.768215   \n",
       "75%                           68.747499                      0.856047   \n",
       "max                           74.349998                      0.985178   \n",
       "\n",
       "        Generosity  Perceptions Of Corruption  Positive Affect  \\\n",
       "count  1734.000000                1734.000000      1734.000000   \n",
       "mean      0.002288                   0.752078         0.659460   \n",
       "std       0.161471                   0.184979         0.105132   \n",
       "min      -0.337527                   0.035198         0.178886   \n",
       "25%      -0.106073                   0.698852         0.578239   \n",
       "50%      -0.021266                   0.808559         0.670217   \n",
       "75%       0.094132                   0.876126         0.743923   \n",
       "max       0.702708                   0.983276         0.883586   \n",
       "\n",
       "       Negative Affect  Confidence In National Government  \n",
       "count      1734.000000                        1734.000000  \n",
       "mean          0.268957                           0.484117  \n",
       "std           0.081802                           0.193863  \n",
       "min           0.094316                           0.078787  \n",
       "25%           0.208292                           0.331213  \n",
       "50%           0.259357                           0.467447  \n",
       "75%           0.317326                           0.619676  \n",
       "max           0.606713                           0.993604  "
      ]
     },
     "execution_count": 75,
     "metadata": {},
     "output_type": "execute_result"
    }
   ],
   "source": [
    "happiness3.describe()"
   ]
  },
  {
   "cell_type": "code",
   "execution_count": 77,
   "id": "da14a72f",
   "metadata": {
    "scrolled": true
   },
   "outputs": [
    {
     "data": {
      "text/html": [
       "<div>\n",
       "<style scoped>\n",
       "    .dataframe tbody tr th:only-of-type {\n",
       "        vertical-align: middle;\n",
       "    }\n",
       "\n",
       "    .dataframe tbody tr th {\n",
       "        vertical-align: top;\n",
       "    }\n",
       "\n",
       "    .dataframe thead th {\n",
       "        text-align: right;\n",
       "    }\n",
       "</style>\n",
       "<table border=\"1\" class=\"dataframe\">\n",
       "  <thead>\n",
       "    <tr style=\"text-align: right;\">\n",
       "      <th></th>\n",
       "      <th>Country Name</th>\n",
       "      <th>Regional Indicator</th>\n",
       "      <th>Year</th>\n",
       "      <th>Life Ladder</th>\n",
       "      <th>Log GDP Per Capita</th>\n",
       "      <th>Social Support</th>\n",
       "      <th>Healthy Life Expectancy At Birth</th>\n",
       "      <th>Freedom To Make Life Choices</th>\n",
       "      <th>Generosity</th>\n",
       "      <th>Perceptions Of Corruption</th>\n",
       "      <th>Positive Affect</th>\n",
       "      <th>Negative Affect</th>\n",
       "      <th>Confidence In National Government</th>\n",
       "    </tr>\n",
       "  </thead>\n",
       "  <tbody>\n",
       "    <tr>\n",
       "      <th>0</th>\n",
       "      <td>Afghanistan</td>\n",
       "      <td>South Asia</td>\n",
       "      <td>2008</td>\n",
       "      <td>3.723590</td>\n",
       "      <td>7.350416</td>\n",
       "      <td>0.450662</td>\n",
       "      <td>50.500000</td>\n",
       "      <td>0.718114</td>\n",
       "      <td>0.167652</td>\n",
       "      <td>0.881686</td>\n",
       "      <td>0.414297</td>\n",
       "      <td>0.258195</td>\n",
       "      <td>0.612072</td>\n",
       "    </tr>\n",
       "    <tr>\n",
       "      <th>1</th>\n",
       "      <td>Afghanistan</td>\n",
       "      <td>South Asia</td>\n",
       "      <td>2009</td>\n",
       "      <td>4.401778</td>\n",
       "      <td>7.508646</td>\n",
       "      <td>0.552308</td>\n",
       "      <td>50.799999</td>\n",
       "      <td>0.678896</td>\n",
       "      <td>0.190809</td>\n",
       "      <td>0.850035</td>\n",
       "      <td>0.481421</td>\n",
       "      <td>0.237092</td>\n",
       "      <td>0.611545</td>\n",
       "    </tr>\n",
       "    <tr>\n",
       "      <th>2</th>\n",
       "      <td>Afghanistan</td>\n",
       "      <td>South Asia</td>\n",
       "      <td>2010</td>\n",
       "      <td>4.758381</td>\n",
       "      <td>7.613900</td>\n",
       "      <td>0.539075</td>\n",
       "      <td>51.099998</td>\n",
       "      <td>0.600127</td>\n",
       "      <td>0.121316</td>\n",
       "      <td>0.706766</td>\n",
       "      <td>0.516907</td>\n",
       "      <td>0.275324</td>\n",
       "      <td>0.299357</td>\n",
       "    </tr>\n",
       "    <tr>\n",
       "      <th>3</th>\n",
       "      <td>Afghanistan</td>\n",
       "      <td>South Asia</td>\n",
       "      <td>2011</td>\n",
       "      <td>3.831719</td>\n",
       "      <td>7.581259</td>\n",
       "      <td>0.521104</td>\n",
       "      <td>51.400002</td>\n",
       "      <td>0.495901</td>\n",
       "      <td>0.163571</td>\n",
       "      <td>0.731109</td>\n",
       "      <td>0.479835</td>\n",
       "      <td>0.267175</td>\n",
       "      <td>0.307386</td>\n",
       "    </tr>\n",
       "    <tr>\n",
       "      <th>4</th>\n",
       "      <td>Afghanistan</td>\n",
       "      <td>South Asia</td>\n",
       "      <td>2012</td>\n",
       "      <td>3.782938</td>\n",
       "      <td>7.660506</td>\n",
       "      <td>0.520637</td>\n",
       "      <td>51.700001</td>\n",
       "      <td>0.530935</td>\n",
       "      <td>0.237588</td>\n",
       "      <td>0.775620</td>\n",
       "      <td>0.613513</td>\n",
       "      <td>0.267919</td>\n",
       "      <td>0.435440</td>\n",
       "    </tr>\n",
       "    <tr>\n",
       "      <th>5</th>\n",
       "      <td>Afghanistan</td>\n",
       "      <td>South Asia</td>\n",
       "      <td>2013</td>\n",
       "      <td>3.572100</td>\n",
       "      <td>7.680333</td>\n",
       "      <td>0.483552</td>\n",
       "      <td>52.000000</td>\n",
       "      <td>0.577955</td>\n",
       "      <td>0.062666</td>\n",
       "      <td>0.823204</td>\n",
       "      <td>0.547417</td>\n",
       "      <td>0.273328</td>\n",
       "      <td>0.482847</td>\n",
       "    </tr>\n",
       "    <tr>\n",
       "      <th>6</th>\n",
       "      <td>Afghanistan</td>\n",
       "      <td>South Asia</td>\n",
       "      <td>2014</td>\n",
       "      <td>3.130896</td>\n",
       "      <td>7.670638</td>\n",
       "      <td>0.525568</td>\n",
       "      <td>52.299999</td>\n",
       "      <td>0.508514</td>\n",
       "      <td>0.105755</td>\n",
       "      <td>0.871242</td>\n",
       "      <td>0.491641</td>\n",
       "      <td>0.374861</td>\n",
       "      <td>0.409048</td>\n",
       "    </tr>\n",
       "    <tr>\n",
       "      <th>7</th>\n",
       "      <td>Afghanistan</td>\n",
       "      <td>South Asia</td>\n",
       "      <td>2015</td>\n",
       "      <td>3.982855</td>\n",
       "      <td>7.653833</td>\n",
       "      <td>0.528597</td>\n",
       "      <td>52.599998</td>\n",
       "      <td>0.388928</td>\n",
       "      <td>0.081652</td>\n",
       "      <td>0.880638</td>\n",
       "      <td>0.491410</td>\n",
       "      <td>0.339276</td>\n",
       "      <td>0.260557</td>\n",
       "    </tr>\n",
       "    <tr>\n",
       "      <th>8</th>\n",
       "      <td>Afghanistan</td>\n",
       "      <td>South Asia</td>\n",
       "      <td>2016</td>\n",
       "      <td>4.220169</td>\n",
       "      <td>7.650370</td>\n",
       "      <td>0.559072</td>\n",
       "      <td>52.924999</td>\n",
       "      <td>0.522566</td>\n",
       "      <td>0.043916</td>\n",
       "      <td>0.793246</td>\n",
       "      <td>0.501409</td>\n",
       "      <td>0.348332</td>\n",
       "      <td>0.324990</td>\n",
       "    </tr>\n",
       "    <tr>\n",
       "      <th>9</th>\n",
       "      <td>Afghanistan</td>\n",
       "      <td>South Asia</td>\n",
       "      <td>2017</td>\n",
       "      <td>2.661718</td>\n",
       "      <td>7.647830</td>\n",
       "      <td>0.490880</td>\n",
       "      <td>53.250000</td>\n",
       "      <td>0.427011</td>\n",
       "      <td>-0.119410</td>\n",
       "      <td>0.954393</td>\n",
       "      <td>0.435270</td>\n",
       "      <td>0.371326</td>\n",
       "      <td>0.261179</td>\n",
       "    </tr>\n",
       "    <tr>\n",
       "      <th>10</th>\n",
       "      <td>Afghanistan</td>\n",
       "      <td>South Asia</td>\n",
       "      <td>2018</td>\n",
       "      <td>2.694303</td>\n",
       "      <td>7.630801</td>\n",
       "      <td>0.507516</td>\n",
       "      <td>53.575001</td>\n",
       "      <td>0.373536</td>\n",
       "      <td>-0.091106</td>\n",
       "      <td>0.927606</td>\n",
       "      <td>0.384561</td>\n",
       "      <td>0.404904</td>\n",
       "      <td>0.364666</td>\n",
       "    </tr>\n",
       "    <tr>\n",
       "      <th>11</th>\n",
       "      <td>Afghanistan</td>\n",
       "      <td>South Asia</td>\n",
       "      <td>2019</td>\n",
       "      <td>2.375092</td>\n",
       "      <td>7.640086</td>\n",
       "      <td>0.419973</td>\n",
       "      <td>53.900002</td>\n",
       "      <td>0.393656</td>\n",
       "      <td>-0.106016</td>\n",
       "      <td>0.923849</td>\n",
       "      <td>0.324108</td>\n",
       "      <td>0.502474</td>\n",
       "      <td>0.341482</td>\n",
       "    </tr>\n",
       "    <tr>\n",
       "      <th>12</th>\n",
       "      <td>Afghanistan</td>\n",
       "      <td>South Asia</td>\n",
       "      <td>2021</td>\n",
       "      <td>2.436034</td>\n",
       "      <td>7.324032</td>\n",
       "      <td>0.454175</td>\n",
       "      <td>54.549999</td>\n",
       "      <td>0.394306</td>\n",
       "      <td>-0.081011</td>\n",
       "      <td>0.946299</td>\n",
       "      <td>0.178886</td>\n",
       "      <td>0.606713</td>\n",
       "      <td>0.255620</td>\n",
       "    </tr>\n",
       "    <tr>\n",
       "      <th>14</th>\n",
       "      <td>Albania</td>\n",
       "      <td>Central and Eastern Europe</td>\n",
       "      <td>2007</td>\n",
       "      <td>4.634252</td>\n",
       "      <td>9.121704</td>\n",
       "      <td>0.821372</td>\n",
       "      <td>66.760002</td>\n",
       "      <td>0.528605</td>\n",
       "      <td>-0.010429</td>\n",
       "      <td>0.874700</td>\n",
       "      <td>0.488819</td>\n",
       "      <td>0.246335</td>\n",
       "      <td>0.300681</td>\n",
       "    </tr>\n",
       "    <tr>\n",
       "      <th>18</th>\n",
       "      <td>Albania</td>\n",
       "      <td>Central and Eastern Europe</td>\n",
       "      <td>2012</td>\n",
       "      <td>5.510124</td>\n",
       "      <td>9.326344</td>\n",
       "      <td>0.784502</td>\n",
       "      <td>68.160004</td>\n",
       "      <td>0.601512</td>\n",
       "      <td>-0.170467</td>\n",
       "      <td>0.847675</td>\n",
       "      <td>0.553473</td>\n",
       "      <td>0.271393</td>\n",
       "      <td>0.364894</td>\n",
       "    </tr>\n",
       "    <tr>\n",
       "      <th>19</th>\n",
       "      <td>Albania</td>\n",
       "      <td>Central and Eastern Europe</td>\n",
       "      <td>2013</td>\n",
       "      <td>4.550648</td>\n",
       "      <td>9.338146</td>\n",
       "      <td>0.759477</td>\n",
       "      <td>68.440002</td>\n",
       "      <td>0.631830</td>\n",
       "      <td>-0.128825</td>\n",
       "      <td>0.862905</td>\n",
       "      <td>0.540751</td>\n",
       "      <td>0.338379</td>\n",
       "      <td>0.338095</td>\n",
       "    </tr>\n",
       "    <tr>\n",
       "      <th>20</th>\n",
       "      <td>Albania</td>\n",
       "      <td>Central and Eastern Europe</td>\n",
       "      <td>2014</td>\n",
       "      <td>4.813763</td>\n",
       "      <td>9.357805</td>\n",
       "      <td>0.625587</td>\n",
       "      <td>68.720001</td>\n",
       "      <td>0.734648</td>\n",
       "      <td>-0.026298</td>\n",
       "      <td>0.882704</td>\n",
       "      <td>0.572945</td>\n",
       "      <td>0.334543</td>\n",
       "      <td>0.498786</td>\n",
       "    </tr>\n",
       "    <tr>\n",
       "      <th>21</th>\n",
       "      <td>Albania</td>\n",
       "      <td>Central and Eastern Europe</td>\n",
       "      <td>2015</td>\n",
       "      <td>4.606651</td>\n",
       "      <td>9.382662</td>\n",
       "      <td>0.639356</td>\n",
       "      <td>69.000000</td>\n",
       "      <td>0.703851</td>\n",
       "      <td>-0.082492</td>\n",
       "      <td>0.884793</td>\n",
       "      <td>0.579072</td>\n",
       "      <td>0.350427</td>\n",
       "      <td>0.506978</td>\n",
       "    </tr>\n",
       "    <tr>\n",
       "      <th>22</th>\n",
       "      <td>Albania</td>\n",
       "      <td>Central and Eastern Europe</td>\n",
       "      <td>2016</td>\n",
       "      <td>4.511101</td>\n",
       "      <td>9.416873</td>\n",
       "      <td>0.638411</td>\n",
       "      <td>69.025002</td>\n",
       "      <td>0.729819</td>\n",
       "      <td>-0.018664</td>\n",
       "      <td>0.901071</td>\n",
       "      <td>0.567080</td>\n",
       "      <td>0.321706</td>\n",
       "      <td>0.400910</td>\n",
       "    </tr>\n",
       "    <tr>\n",
       "      <th>23</th>\n",
       "      <td>Albania</td>\n",
       "      <td>Central and Eastern Europe</td>\n",
       "      <td>2017</td>\n",
       "      <td>4.639548</td>\n",
       "      <td>9.455110</td>\n",
       "      <td>0.637698</td>\n",
       "      <td>69.050003</td>\n",
       "      <td>0.749611</td>\n",
       "      <td>-0.030506</td>\n",
       "      <td>0.876135</td>\n",
       "      <td>0.547240</td>\n",
       "      <td>0.333884</td>\n",
       "      <td>0.457738</td>\n",
       "    </tr>\n",
       "  </tbody>\n",
       "</table>\n",
       "</div>"
      ],
      "text/plain": [
       "   Country Name          Regional Indicator  Year  Life Ladder  \\\n",
       "0   Afghanistan                  South Asia  2008     3.723590   \n",
       "1   Afghanistan                  South Asia  2009     4.401778   \n",
       "2   Afghanistan                  South Asia  2010     4.758381   \n",
       "3   Afghanistan                  South Asia  2011     3.831719   \n",
       "4   Afghanistan                  South Asia  2012     3.782938   \n",
       "5   Afghanistan                  South Asia  2013     3.572100   \n",
       "6   Afghanistan                  South Asia  2014     3.130896   \n",
       "7   Afghanistan                  South Asia  2015     3.982855   \n",
       "8   Afghanistan                  South Asia  2016     4.220169   \n",
       "9   Afghanistan                  South Asia  2017     2.661718   \n",
       "10  Afghanistan                  South Asia  2018     2.694303   \n",
       "11  Afghanistan                  South Asia  2019     2.375092   \n",
       "12  Afghanistan                  South Asia  2021     2.436034   \n",
       "14      Albania  Central and Eastern Europe  2007     4.634252   \n",
       "18      Albania  Central and Eastern Europe  2012     5.510124   \n",
       "19      Albania  Central and Eastern Europe  2013     4.550648   \n",
       "20      Albania  Central and Eastern Europe  2014     4.813763   \n",
       "21      Albania  Central and Eastern Europe  2015     4.606651   \n",
       "22      Albania  Central and Eastern Europe  2016     4.511101   \n",
       "23      Albania  Central and Eastern Europe  2017     4.639548   \n",
       "\n",
       "    Log GDP Per Capita  Social Support  Healthy Life Expectancy At Birth  \\\n",
       "0             7.350416        0.450662                         50.500000   \n",
       "1             7.508646        0.552308                         50.799999   \n",
       "2             7.613900        0.539075                         51.099998   \n",
       "3             7.581259        0.521104                         51.400002   \n",
       "4             7.660506        0.520637                         51.700001   \n",
       "5             7.680333        0.483552                         52.000000   \n",
       "6             7.670638        0.525568                         52.299999   \n",
       "7             7.653833        0.528597                         52.599998   \n",
       "8             7.650370        0.559072                         52.924999   \n",
       "9             7.647830        0.490880                         53.250000   \n",
       "10            7.630801        0.507516                         53.575001   \n",
       "11            7.640086        0.419973                         53.900002   \n",
       "12            7.324032        0.454175                         54.549999   \n",
       "14            9.121704        0.821372                         66.760002   \n",
       "18            9.326344        0.784502                         68.160004   \n",
       "19            9.338146        0.759477                         68.440002   \n",
       "20            9.357805        0.625587                         68.720001   \n",
       "21            9.382662        0.639356                         69.000000   \n",
       "22            9.416873        0.638411                         69.025002   \n",
       "23            9.455110        0.637698                         69.050003   \n",
       "\n",
       "    Freedom To Make Life Choices  Generosity  Perceptions Of Corruption  \\\n",
       "0                       0.718114    0.167652                   0.881686   \n",
       "1                       0.678896    0.190809                   0.850035   \n",
       "2                       0.600127    0.121316                   0.706766   \n",
       "3                       0.495901    0.163571                   0.731109   \n",
       "4                       0.530935    0.237588                   0.775620   \n",
       "5                       0.577955    0.062666                   0.823204   \n",
       "6                       0.508514    0.105755                   0.871242   \n",
       "7                       0.388928    0.081652                   0.880638   \n",
       "8                       0.522566    0.043916                   0.793246   \n",
       "9                       0.427011   -0.119410                   0.954393   \n",
       "10                      0.373536   -0.091106                   0.927606   \n",
       "11                      0.393656   -0.106016                   0.923849   \n",
       "12                      0.394306   -0.081011                   0.946299   \n",
       "14                      0.528605   -0.010429                   0.874700   \n",
       "18                      0.601512   -0.170467                   0.847675   \n",
       "19                      0.631830   -0.128825                   0.862905   \n",
       "20                      0.734648   -0.026298                   0.882704   \n",
       "21                      0.703851   -0.082492                   0.884793   \n",
       "22                      0.729819   -0.018664                   0.901071   \n",
       "23                      0.749611   -0.030506                   0.876135   \n",
       "\n",
       "    Positive Affect  Negative Affect  Confidence In National Government  \n",
       "0          0.414297         0.258195                           0.612072  \n",
       "1          0.481421         0.237092                           0.611545  \n",
       "2          0.516907         0.275324                           0.299357  \n",
       "3          0.479835         0.267175                           0.307386  \n",
       "4          0.613513         0.267919                           0.435440  \n",
       "5          0.547417         0.273328                           0.482847  \n",
       "6          0.491641         0.374861                           0.409048  \n",
       "7          0.491410         0.339276                           0.260557  \n",
       "8          0.501409         0.348332                           0.324990  \n",
       "9          0.435270         0.371326                           0.261179  \n",
       "10         0.384561         0.404904                           0.364666  \n",
       "11         0.324108         0.502474                           0.341482  \n",
       "12         0.178886         0.606713                           0.255620  \n",
       "14         0.488819         0.246335                           0.300681  \n",
       "18         0.553473         0.271393                           0.364894  \n",
       "19         0.540751         0.338379                           0.338095  \n",
       "20         0.572945         0.334543                           0.498786  \n",
       "21         0.579072         0.350427                           0.506978  \n",
       "22         0.567080         0.321706                           0.400910  \n",
       "23         0.547240         0.333884                           0.457738  "
      ]
     },
     "execution_count": 77,
     "metadata": {},
     "output_type": "execute_result"
    }
   ],
   "source": [
    "happiness3.head(20)"
   ]
  },
  {
   "cell_type": "code",
   "execution_count": 95,
   "id": "3247c613",
   "metadata": {},
   "outputs": [
    {
     "data": {
      "text/html": [
       "<div>\n",
       "<style scoped>\n",
       "    .dataframe tbody tr th:only-of-type {\n",
       "        vertical-align: middle;\n",
       "    }\n",
       "\n",
       "    .dataframe tbody tr th {\n",
       "        vertical-align: top;\n",
       "    }\n",
       "\n",
       "    .dataframe thead th {\n",
       "        text-align: right;\n",
       "    }\n",
       "</style>\n",
       "<table border=\"1\" class=\"dataframe\">\n",
       "  <thead>\n",
       "    <tr style=\"text-align: right;\">\n",
       "      <th></th>\n",
       "      <th>Country Name</th>\n",
       "      <th>Regional Indicator</th>\n",
       "      <th>Year</th>\n",
       "      <th>Life Ladder</th>\n",
       "      <th>Log GDP Per Capita</th>\n",
       "      <th>Social Support</th>\n",
       "      <th>Healthy Life Expectancy At Birth</th>\n",
       "      <th>Freedom To Make Life Choices</th>\n",
       "      <th>Generosity</th>\n",
       "      <th>Perceptions Of Corruption</th>\n",
       "      <th>Positive Affect</th>\n",
       "      <th>Negative Affect</th>\n",
       "      <th>Confidence In National Government</th>\n",
       "    </tr>\n",
       "  </thead>\n",
       "  <tbody>\n",
       "    <tr>\n",
       "      <th>13</th>\n",
       "      <td>Afghanistan</td>\n",
       "      <td>South Asia</td>\n",
       "      <td>2022</td>\n",
       "      <td>1.281271</td>\n",
       "      <td>NaN</td>\n",
       "      <td>0.228217</td>\n",
       "      <td>54.875000</td>\n",
       "      <td>0.368377</td>\n",
       "      <td>NaN</td>\n",
       "      <td>0.733198</td>\n",
       "      <td>0.205868</td>\n",
       "      <td>0.575512</td>\n",
       "      <td>NaN</td>\n",
       "    </tr>\n",
       "    <tr>\n",
       "      <th>28</th>\n",
       "      <td>Albania</td>\n",
       "      <td>Central and Eastern Europe</td>\n",
       "      <td>2022</td>\n",
       "      <td>5.212213</td>\n",
       "      <td>9.626483</td>\n",
       "      <td>0.724090</td>\n",
       "      <td>69.175003</td>\n",
       "      <td>0.802250</td>\n",
       "      <td>-0.065987</td>\n",
       "      <td>0.845502</td>\n",
       "      <td>0.547126</td>\n",
       "      <td>0.254826</td>\n",
       "      <td>NaN</td>\n",
       "    </tr>\n",
       "    <tr>\n",
       "      <th>59</th>\n",
       "      <td>Argentina</td>\n",
       "      <td>Latin America and Caribbean</td>\n",
       "      <td>2022</td>\n",
       "      <td>6.260993</td>\n",
       "      <td>10.011405</td>\n",
       "      <td>0.893330</td>\n",
       "      <td>67.250000</td>\n",
       "      <td>0.825189</td>\n",
       "      <td>-0.127506</td>\n",
       "      <td>0.810037</td>\n",
       "      <td>0.724068</td>\n",
       "      <td>0.284279</td>\n",
       "      <td>NaN</td>\n",
       "    </tr>\n",
       "    <tr>\n",
       "      <th>75</th>\n",
       "      <td>Armenia</td>\n",
       "      <td>Commonwealth of Independent States</td>\n",
       "      <td>2022</td>\n",
       "      <td>5.381943</td>\n",
       "      <td>9.667766</td>\n",
       "      <td>0.811169</td>\n",
       "      <td>67.925003</td>\n",
       "      <td>0.789599</td>\n",
       "      <td>-0.154325</td>\n",
       "      <td>0.704730</td>\n",
       "      <td>0.530931</td>\n",
       "      <td>0.549468</td>\n",
       "      <td>NaN</td>\n",
       "    </tr>\n",
       "    <tr>\n",
       "      <th>91</th>\n",
       "      <td>Australia</td>\n",
       "      <td>North America and ANZ</td>\n",
       "      <td>2022</td>\n",
       "      <td>7.034696</td>\n",
       "      <td>10.853529</td>\n",
       "      <td>0.941673</td>\n",
       "      <td>71.125000</td>\n",
       "      <td>0.853777</td>\n",
       "      <td>0.153465</td>\n",
       "      <td>0.545217</td>\n",
       "      <td>0.710772</td>\n",
       "      <td>0.243920</td>\n",
       "      <td>NaN</td>\n",
       "    </tr>\n",
       "    <tr>\n",
       "      <th>106</th>\n",
       "      <td>Austria</td>\n",
       "      <td>Western Europe</td>\n",
       "      <td>2022</td>\n",
       "      <td>6.998997</td>\n",
       "      <td>10.938917</td>\n",
       "      <td>0.876287</td>\n",
       "      <td>71.275002</td>\n",
       "      <td>0.855503</td>\n",
       "      <td>0.139042</td>\n",
       "      <td>0.524212</td>\n",
       "      <td>0.717616</td>\n",
       "      <td>0.226395</td>\n",
       "      <td>NaN</td>\n",
       "    </tr>\n",
       "    <tr>\n",
       "      <th>148</th>\n",
       "      <td>Bangladesh</td>\n",
       "      <td>South Asia</td>\n",
       "      <td>2022</td>\n",
       "      <td>3.407532</td>\n",
       "      <td>8.743257</td>\n",
       "      <td>0.403708</td>\n",
       "      <td>64.675003</td>\n",
       "      <td>0.864576</td>\n",
       "      <td>-0.054776</td>\n",
       "      <td>0.616872</td>\n",
       "      <td>0.393517</td>\n",
       "      <td>0.448060</td>\n",
       "      <td>NaN</td>\n",
       "    </tr>\n",
       "    <tr>\n",
       "      <th>178</th>\n",
       "      <td>Belgium</td>\n",
       "      <td>Western Europe</td>\n",
       "      <td>2022</td>\n",
       "      <td>6.856874</td>\n",
       "      <td>10.878268</td>\n",
       "      <td>0.922733</td>\n",
       "      <td>71.050003</td>\n",
       "      <td>0.889889</td>\n",
       "      <td>0.096944</td>\n",
       "      <td>0.483384</td>\n",
       "      <td>0.718480</td>\n",
       "      <td>0.234773</td>\n",
       "      <td>NaN</td>\n",
       "    </tr>\n",
       "    <tr>\n",
       "      <th>194</th>\n",
       "      <td>Benin</td>\n",
       "      <td>Sub-Saharan Africa</td>\n",
       "      <td>2022</td>\n",
       "      <td>4.217326</td>\n",
       "      <td>8.136793</td>\n",
       "      <td>0.365683</td>\n",
       "      <td>56.400002</td>\n",
       "      <td>0.714037</td>\n",
       "      <td>-0.029675</td>\n",
       "      <td>0.579619</td>\n",
       "      <td>0.570918</td>\n",
       "      <td>0.443851</td>\n",
       "      <td>NaN</td>\n",
       "    </tr>\n",
       "    <tr>\n",
       "      <th>214</th>\n",
       "      <td>Bolivia</td>\n",
       "      <td>Latin America and Caribbean</td>\n",
       "      <td>2022</td>\n",
       "      <td>5.928882</td>\n",
       "      <td>9.014474</td>\n",
       "      <td>0.823510</td>\n",
       "      <td>63.750000</td>\n",
       "      <td>0.865010</td>\n",
       "      <td>-0.080244</td>\n",
       "      <td>0.840245</td>\n",
       "      <td>0.738011</td>\n",
       "      <td>0.425689</td>\n",
       "      <td>NaN</td>\n",
       "    </tr>\n",
       "    <tr>\n",
       "      <th>241</th>\n",
       "      <td>Botswana</td>\n",
       "      <td>Sub-Saharan Africa</td>\n",
       "      <td>2022</td>\n",
       "      <td>3.435275</td>\n",
       "      <td>9.629346</td>\n",
       "      <td>0.750399</td>\n",
       "      <td>54.724998</td>\n",
       "      <td>0.739403</td>\n",
       "      <td>-0.214621</td>\n",
       "      <td>0.830940</td>\n",
       "      <td>0.623351</td>\n",
       "      <td>0.286919</td>\n",
       "      <td>NaN</td>\n",
       "    </tr>\n",
       "    <tr>\n",
       "      <th>258</th>\n",
       "      <td>Brazil</td>\n",
       "      <td>Latin America and Caribbean</td>\n",
       "      <td>2022</td>\n",
       "      <td>6.257080</td>\n",
       "      <td>9.610548</td>\n",
       "      <td>0.865810</td>\n",
       "      <td>65.925003</td>\n",
       "      <td>0.829771</td>\n",
       "      <td>-0.060691</td>\n",
       "      <td>0.741964</td>\n",
       "      <td>0.680913</td>\n",
       "      <td>0.340775</td>\n",
       "      <td>NaN</td>\n",
       "    </tr>\n",
       "    <tr>\n",
       "      <th>272</th>\n",
       "      <td>Bulgaria</td>\n",
       "      <td>Central and Eastern Europe</td>\n",
       "      <td>2022</td>\n",
       "      <td>5.378349</td>\n",
       "      <td>10.137582</td>\n",
       "      <td>0.952761</td>\n",
       "      <td>66.599998</td>\n",
       "      <td>0.741359</td>\n",
       "      <td>-0.145213</td>\n",
       "      <td>0.941626</td>\n",
       "      <td>0.581908</td>\n",
       "      <td>0.165302</td>\n",
       "      <td>NaN</td>\n",
       "    </tr>\n",
       "    <tr>\n",
       "      <th>309</th>\n",
       "      <td>Cambodia</td>\n",
       "      <td>Southeast Asia</td>\n",
       "      <td>2022</td>\n",
       "      <td>4.250281</td>\n",
       "      <td>8.414618</td>\n",
       "      <td>0.783602</td>\n",
       "      <td>62.099998</td>\n",
       "      <td>0.946244</td>\n",
       "      <td>0.154094</td>\n",
       "      <td>0.859684</td>\n",
       "      <td>0.755761</td>\n",
       "      <td>0.387784</td>\n",
       "      <td>NaN</td>\n",
       "    </tr>\n",
       "    <tr>\n",
       "      <th>326</th>\n",
       "      <td>Cameroon</td>\n",
       "      <td>Sub-Saharan Africa</td>\n",
       "      <td>2022</td>\n",
       "      <td>4.712408</td>\n",
       "      <td>8.227442</td>\n",
       "      <td>0.629109</td>\n",
       "      <td>56.525002</td>\n",
       "      <td>0.674506</td>\n",
       "      <td>0.025319</td>\n",
       "      <td>0.849325</td>\n",
       "      <td>0.585760</td>\n",
       "      <td>0.362231</td>\n",
       "      <td>NaN</td>\n",
       "    </tr>\n",
       "    <tr>\n",
       "      <th>343</th>\n",
       "      <td>Canada</td>\n",
       "      <td>North America and ANZ</td>\n",
       "      <td>2022</td>\n",
       "      <td>6.917935</td>\n",
       "      <td>10.803367</td>\n",
       "      <td>0.929102</td>\n",
       "      <td>71.449997</td>\n",
       "      <td>0.838264</td>\n",
       "      <td>0.221542</td>\n",
       "      <td>0.442000</td>\n",
       "      <td>0.719483</td>\n",
       "      <td>0.286748</td>\n",
       "      <td>NaN</td>\n",
       "    </tr>\n",
       "    <tr>\n",
       "      <th>363</th>\n",
       "      <td>Chad</td>\n",
       "      <td>Sub-Saharan Africa</td>\n",
       "      <td>2022</td>\n",
       "      <td>4.396646</td>\n",
       "      <td>7.261129</td>\n",
       "      <td>0.719672</td>\n",
       "      <td>53.125000</td>\n",
       "      <td>0.679480</td>\n",
       "      <td>0.221162</td>\n",
       "      <td>0.805424</td>\n",
       "      <td>0.588192</td>\n",
       "      <td>0.499192</td>\n",
       "      <td>NaN</td>\n",
       "    </tr>\n",
       "    <tr>\n",
       "      <th>380</th>\n",
       "      <td>Chile</td>\n",
       "      <td>Latin America and Caribbean</td>\n",
       "      <td>2022</td>\n",
       "      <td>6.415199</td>\n",
       "      <td>10.153563</td>\n",
       "      <td>0.886762</td>\n",
       "      <td>70.449997</td>\n",
       "      <td>0.793486</td>\n",
       "      <td>-0.010978</td>\n",
       "      <td>0.796396</td>\n",
       "      <td>0.775208</td>\n",
       "      <td>0.252545</td>\n",
       "      <td>NaN</td>\n",
       "    </tr>\n",
       "    <tr>\n",
       "      <th>413</th>\n",
       "      <td>Colombia</td>\n",
       "      <td>Latin America and Caribbean</td>\n",
       "      <td>2022</td>\n",
       "      <td>5.891712</td>\n",
       "      <td>9.659548</td>\n",
       "      <td>0.876949</td>\n",
       "      <td>69.525002</td>\n",
       "      <td>0.799184</td>\n",
       "      <td>-0.161807</td>\n",
       "      <td>0.862641</td>\n",
       "      <td>0.761744</td>\n",
       "      <td>0.305504</td>\n",
       "      <td>NaN</td>\n",
       "    </tr>\n",
       "    <tr>\n",
       "      <th>420</th>\n",
       "      <td>Comoros</td>\n",
       "      <td>Sub-Saharan Africa</td>\n",
       "      <td>2022</td>\n",
       "      <td>3.545204</td>\n",
       "      <td>8.074592</td>\n",
       "      <td>0.471821</td>\n",
       "      <td>59.424999</td>\n",
       "      <td>0.480554</td>\n",
       "      <td>-0.014281</td>\n",
       "      <td>0.732311</td>\n",
       "      <td>0.602503</td>\n",
       "      <td>0.351545</td>\n",
       "      <td>NaN</td>\n",
       "    </tr>\n",
       "  </tbody>\n",
       "</table>\n",
       "</div>"
      ],
      "text/plain": [
       "    Country Name                  Regional Indicator  Year  Life Ladder  \\\n",
       "13   Afghanistan                          South Asia  2022     1.281271   \n",
       "28       Albania          Central and Eastern Europe  2022     5.212213   \n",
       "59     Argentina         Latin America and Caribbean  2022     6.260993   \n",
       "75       Armenia  Commonwealth of Independent States  2022     5.381943   \n",
       "91     Australia               North America and ANZ  2022     7.034696   \n",
       "106      Austria                      Western Europe  2022     6.998997   \n",
       "148   Bangladesh                          South Asia  2022     3.407532   \n",
       "178      Belgium                      Western Europe  2022     6.856874   \n",
       "194        Benin                  Sub-Saharan Africa  2022     4.217326   \n",
       "214      Bolivia         Latin America and Caribbean  2022     5.928882   \n",
       "241     Botswana                  Sub-Saharan Africa  2022     3.435275   \n",
       "258       Brazil         Latin America and Caribbean  2022     6.257080   \n",
       "272     Bulgaria          Central and Eastern Europe  2022     5.378349   \n",
       "309     Cambodia                      Southeast Asia  2022     4.250281   \n",
       "326     Cameroon                  Sub-Saharan Africa  2022     4.712408   \n",
       "343       Canada               North America and ANZ  2022     6.917935   \n",
       "363         Chad                  Sub-Saharan Africa  2022     4.396646   \n",
       "380        Chile         Latin America and Caribbean  2022     6.415199   \n",
       "413     Colombia         Latin America and Caribbean  2022     5.891712   \n",
       "420      Comoros                  Sub-Saharan Africa  2022     3.545204   \n",
       "\n",
       "     Log GDP Per Capita  Social Support  Healthy Life Expectancy At Birth  \\\n",
       "13                  NaN        0.228217                         54.875000   \n",
       "28             9.626483        0.724090                         69.175003   \n",
       "59            10.011405        0.893330                         67.250000   \n",
       "75             9.667766        0.811169                         67.925003   \n",
       "91            10.853529        0.941673                         71.125000   \n",
       "106           10.938917        0.876287                         71.275002   \n",
       "148            8.743257        0.403708                         64.675003   \n",
       "178           10.878268        0.922733                         71.050003   \n",
       "194            8.136793        0.365683                         56.400002   \n",
       "214            9.014474        0.823510                         63.750000   \n",
       "241            9.629346        0.750399                         54.724998   \n",
       "258            9.610548        0.865810                         65.925003   \n",
       "272           10.137582        0.952761                         66.599998   \n",
       "309            8.414618        0.783602                         62.099998   \n",
       "326            8.227442        0.629109                         56.525002   \n",
       "343           10.803367        0.929102                         71.449997   \n",
       "363            7.261129        0.719672                         53.125000   \n",
       "380           10.153563        0.886762                         70.449997   \n",
       "413            9.659548        0.876949                         69.525002   \n",
       "420            8.074592        0.471821                         59.424999   \n",
       "\n",
       "     Freedom To Make Life Choices  Generosity  Perceptions Of Corruption  \\\n",
       "13                       0.368377         NaN                   0.733198   \n",
       "28                       0.802250   -0.065987                   0.845502   \n",
       "59                       0.825189   -0.127506                   0.810037   \n",
       "75                       0.789599   -0.154325                   0.704730   \n",
       "91                       0.853777    0.153465                   0.545217   \n",
       "106                      0.855503    0.139042                   0.524212   \n",
       "148                      0.864576   -0.054776                   0.616872   \n",
       "178                      0.889889    0.096944                   0.483384   \n",
       "194                      0.714037   -0.029675                   0.579619   \n",
       "214                      0.865010   -0.080244                   0.840245   \n",
       "241                      0.739403   -0.214621                   0.830940   \n",
       "258                      0.829771   -0.060691                   0.741964   \n",
       "272                      0.741359   -0.145213                   0.941626   \n",
       "309                      0.946244    0.154094                   0.859684   \n",
       "326                      0.674506    0.025319                   0.849325   \n",
       "343                      0.838264    0.221542                   0.442000   \n",
       "363                      0.679480    0.221162                   0.805424   \n",
       "380                      0.793486   -0.010978                   0.796396   \n",
       "413                      0.799184   -0.161807                   0.862641   \n",
       "420                      0.480554   -0.014281                   0.732311   \n",
       "\n",
       "     Positive Affect  Negative Affect  Confidence In National Government  \n",
       "13          0.205868         0.575512                                NaN  \n",
       "28          0.547126         0.254826                                NaN  \n",
       "59          0.724068         0.284279                                NaN  \n",
       "75          0.530931         0.549468                                NaN  \n",
       "91          0.710772         0.243920                                NaN  \n",
       "106         0.717616         0.226395                                NaN  \n",
       "148         0.393517         0.448060                                NaN  \n",
       "178         0.718480         0.234773                                NaN  \n",
       "194         0.570918         0.443851                                NaN  \n",
       "214         0.738011         0.425689                                NaN  \n",
       "241         0.623351         0.286919                                NaN  \n",
       "258         0.680913         0.340775                                NaN  \n",
       "272         0.581908         0.165302                                NaN  \n",
       "309         0.755761         0.387784                                NaN  \n",
       "326         0.585760         0.362231                                NaN  \n",
       "343         0.719483         0.286748                                NaN  \n",
       "363         0.588192         0.499192                                NaN  \n",
       "380         0.775208         0.252545                                NaN  \n",
       "413         0.761744         0.305504                                NaN  \n",
       "420         0.602503         0.351545                                NaN  "
      ]
     },
     "execution_count": 95,
     "metadata": {},
     "output_type": "execute_result"
    }
   ],
   "source": [
    "happiness_2022 = happiness[(happiness['Year'] == 2022)]\n",
    "happiness_2022.head(20)"
   ]
  },
  {
   "cell_type": "code",
   "execution_count": 112,
   "id": "2f562a1f",
   "metadata": {},
   "outputs": [],
   "source": [
    "happiness4 = happiness_2022.drop(['Confidence In National Government'], axis = 1)"
   ]
  },
  {
   "cell_type": "code",
   "execution_count": 113,
   "id": "5f919c73",
   "metadata": {},
   "outputs": [
    {
     "name": "stdout",
     "output_type": "stream",
     "text": [
      "114\n"
     ]
    }
   ],
   "source": [
    "print(happiness4['Country Name'].nunique())"
   ]
  },
  {
   "cell_type": "code",
   "execution_count": 114,
   "id": "5f32b7b1",
   "metadata": {},
   "outputs": [
    {
     "data": {
      "text/plain": [
       "Country Name                        0.000000\n",
       "Regional Indicator                  0.000000\n",
       "Year                                0.000000\n",
       "Life Ladder                         0.000000\n",
       "Log GDP Per Capita                  0.052632\n",
       "Social Support                      0.000000\n",
       "Healthy Life Expectancy At Birth    0.026316\n",
       "Freedom To Make Life Choices        0.008772\n",
       "Generosity                          0.052632\n",
       "Perceptions Of Corruption           0.026316\n",
       "Positive Affect                     0.000000\n",
       "Negative Affect                     0.000000\n",
       "dtype: float64"
      ]
     },
     "execution_count": 114,
     "metadata": {},
     "output_type": "execute_result"
    }
   ],
   "source": [
    "happiness4.isna().sum()/happiness_2022.shape[0]"
   ]
  },
  {
   "cell_type": "code",
   "execution_count": 115,
   "id": "2135f869",
   "metadata": {},
   "outputs": [
    {
     "data": {
      "text/plain": [
       "Country Name                        0\n",
       "Regional Indicator                  0\n",
       "Year                                0\n",
       "Life Ladder                         0\n",
       "Log GDP Per Capita                  6\n",
       "Social Support                      0\n",
       "Healthy Life Expectancy At Birth    3\n",
       "Freedom To Make Life Choices        1\n",
       "Generosity                          6\n",
       "Perceptions Of Corruption           3\n",
       "Positive Affect                     0\n",
       "Negative Affect                     0\n",
       "dtype: int64"
      ]
     },
     "execution_count": 115,
     "metadata": {},
     "output_type": "execute_result"
    }
   ],
   "source": [
    "happiness4.isnull().sum()"
   ]
  },
  {
   "cell_type": "markdown",
   "id": "2963de49",
   "metadata": {},
   "source": [
    "# EDA"
   ]
  },
  {
   "cell_type": "code",
   "execution_count": 69,
   "id": "860e653a",
   "metadata": {
    "scrolled": true
   },
   "outputs": [
    {
     "data": {
      "text/html": [
       "<div>\n",
       "<style scoped>\n",
       "    .dataframe tbody tr th:only-of-type {\n",
       "        vertical-align: middle;\n",
       "    }\n",
       "\n",
       "    .dataframe tbody tr th {\n",
       "        vertical-align: top;\n",
       "    }\n",
       "\n",
       "    .dataframe thead th {\n",
       "        text-align: right;\n",
       "    }\n",
       "</style>\n",
       "<table border=\"1\" class=\"dataframe\">\n",
       "  <thead>\n",
       "    <tr style=\"text-align: right;\">\n",
       "      <th></th>\n",
       "      <th>Year</th>\n",
       "      <th>Life Ladder</th>\n",
       "      <th>Log GDP Per Capita</th>\n",
       "      <th>Social Support</th>\n",
       "      <th>Healthy Life Expectancy At Birth</th>\n",
       "      <th>Freedom To Make Life Choices</th>\n",
       "      <th>Generosity</th>\n",
       "      <th>Perceptions Of Corruption</th>\n",
       "      <th>Positive Affect</th>\n",
       "      <th>Negative Affect</th>\n",
       "      <th>Confidence In National Government</th>\n",
       "    </tr>\n",
       "  </thead>\n",
       "  <tbody>\n",
       "    <tr>\n",
       "      <th>count</th>\n",
       "      <td>2199.000000</td>\n",
       "      <td>2199.000000</td>\n",
       "      <td>2179.000000</td>\n",
       "      <td>2186.000000</td>\n",
       "      <td>2145.000000</td>\n",
       "      <td>2166.000000</td>\n",
       "      <td>2126.000000</td>\n",
       "      <td>2083.000000</td>\n",
       "      <td>2175.000000</td>\n",
       "      <td>2183.000000</td>\n",
       "      <td>1838.000000</td>\n",
       "    </tr>\n",
       "    <tr>\n",
       "      <th>mean</th>\n",
       "      <td>2014.161437</td>\n",
       "      <td>5.479226</td>\n",
       "      <td>9.389766</td>\n",
       "      <td>0.810679</td>\n",
       "      <td>63.294583</td>\n",
       "      <td>0.747858</td>\n",
       "      <td>0.000096</td>\n",
       "      <td>0.745195</td>\n",
       "      <td>0.652143</td>\n",
       "      <td>0.271501</td>\n",
       "      <td>0.483999</td>\n",
       "    </tr>\n",
       "    <tr>\n",
       "      <th>std</th>\n",
       "      <td>4.718736</td>\n",
       "      <td>1.125529</td>\n",
       "      <td>1.153387</td>\n",
       "      <td>0.120952</td>\n",
       "      <td>6.901104</td>\n",
       "      <td>0.140150</td>\n",
       "      <td>0.161083</td>\n",
       "      <td>0.185837</td>\n",
       "      <td>0.105922</td>\n",
       "      <td>0.086875</td>\n",
       "      <td>0.193071</td>\n",
       "    </tr>\n",
       "    <tr>\n",
       "      <th>min</th>\n",
       "      <td>2005.000000</td>\n",
       "      <td>1.281271</td>\n",
       "      <td>5.526723</td>\n",
       "      <td>0.228217</td>\n",
       "      <td>6.720000</td>\n",
       "      <td>0.257534</td>\n",
       "      <td>-0.337527</td>\n",
       "      <td>0.035198</td>\n",
       "      <td>0.178886</td>\n",
       "      <td>0.082737</td>\n",
       "      <td>0.068769</td>\n",
       "    </tr>\n",
       "    <tr>\n",
       "      <th>25%</th>\n",
       "      <td>2010.000000</td>\n",
       "      <td>4.646750</td>\n",
       "      <td>8.499764</td>\n",
       "      <td>0.746609</td>\n",
       "      <td>59.119999</td>\n",
       "      <td>0.656528</td>\n",
       "      <td>-0.112116</td>\n",
       "      <td>0.688139</td>\n",
       "      <td>0.571684</td>\n",
       "      <td>0.207660</td>\n",
       "      <td>0.332549</td>\n",
       "    </tr>\n",
       "    <tr>\n",
       "      <th>50%</th>\n",
       "      <td>2014.000000</td>\n",
       "      <td>5.432437</td>\n",
       "      <td>9.498955</td>\n",
       "      <td>0.835535</td>\n",
       "      <td>65.050003</td>\n",
       "      <td>0.769821</td>\n",
       "      <td>-0.022671</td>\n",
       "      <td>0.799654</td>\n",
       "      <td>0.663063</td>\n",
       "      <td>0.260671</td>\n",
       "      <td>0.467140</td>\n",
       "    </tr>\n",
       "    <tr>\n",
       "      <th>75%</th>\n",
       "      <td>2018.000000</td>\n",
       "      <td>6.309460</td>\n",
       "      <td>10.373216</td>\n",
       "      <td>0.904792</td>\n",
       "      <td>68.500000</td>\n",
       "      <td>0.859382</td>\n",
       "      <td>0.092070</td>\n",
       "      <td>0.868827</td>\n",
       "      <td>0.737936</td>\n",
       "      <td>0.322894</td>\n",
       "      <td>0.618846</td>\n",
       "    </tr>\n",
       "    <tr>\n",
       "      <th>max</th>\n",
       "      <td>2022.000000</td>\n",
       "      <td>8.018934</td>\n",
       "      <td>11.663788</td>\n",
       "      <td>0.987343</td>\n",
       "      <td>74.474998</td>\n",
       "      <td>0.985178</td>\n",
       "      <td>0.702708</td>\n",
       "      <td>0.983276</td>\n",
       "      <td>0.883586</td>\n",
       "      <td>0.704590</td>\n",
       "      <td>0.993604</td>\n",
       "    </tr>\n",
       "  </tbody>\n",
       "</table>\n",
       "</div>"
      ],
      "text/plain": [
       "              Year  Life Ladder  Log GDP Per Capita  Social Support  \\\n",
       "count  2199.000000  2199.000000         2179.000000     2186.000000   \n",
       "mean   2014.161437     5.479226            9.389766        0.810679   \n",
       "std       4.718736     1.125529            1.153387        0.120952   \n",
       "min    2005.000000     1.281271            5.526723        0.228217   \n",
       "25%    2010.000000     4.646750            8.499764        0.746609   \n",
       "50%    2014.000000     5.432437            9.498955        0.835535   \n",
       "75%    2018.000000     6.309460           10.373216        0.904792   \n",
       "max    2022.000000     8.018934           11.663788        0.987343   \n",
       "\n",
       "       Healthy Life Expectancy At Birth  Freedom To Make Life Choices  \\\n",
       "count                       2145.000000                   2166.000000   \n",
       "mean                          63.294583                      0.747858   \n",
       "std                            6.901104                      0.140150   \n",
       "min                            6.720000                      0.257534   \n",
       "25%                           59.119999                      0.656528   \n",
       "50%                           65.050003                      0.769821   \n",
       "75%                           68.500000                      0.859382   \n",
       "max                           74.474998                      0.985178   \n",
       "\n",
       "        Generosity  Perceptions Of Corruption  Positive Affect  \\\n",
       "count  2126.000000                2083.000000      2175.000000   \n",
       "mean      0.000096                   0.745195         0.652143   \n",
       "std       0.161083                   0.185837         0.105922   \n",
       "min      -0.337527                   0.035198         0.178886   \n",
       "25%      -0.112116                   0.688139         0.571684   \n",
       "50%      -0.022671                   0.799654         0.663063   \n",
       "75%       0.092070                   0.868827         0.737936   \n",
       "max       0.702708                   0.983276         0.883586   \n",
       "\n",
       "       Negative Affect  Confidence In National Government  \n",
       "count      2183.000000                        1838.000000  \n",
       "mean          0.271501                           0.483999  \n",
       "std           0.086875                           0.193071  \n",
       "min           0.082737                           0.068769  \n",
       "25%           0.207660                           0.332549  \n",
       "50%           0.260671                           0.467140  \n",
       "75%           0.322894                           0.618846  \n",
       "max           0.704590                           0.993604  "
      ]
     },
     "execution_count": 69,
     "metadata": {},
     "output_type": "execute_result"
    }
   ],
   "source": [
    "happiness.describe()"
   ]
  },
  {
   "cell_type": "code",
   "execution_count": 68,
   "id": "85b4f23a",
   "metadata": {},
   "outputs": [
    {
     "data": {
      "text/html": [
       "<div>\n",
       "<style scoped>\n",
       "    .dataframe tbody tr th:only-of-type {\n",
       "        vertical-align: middle;\n",
       "    }\n",
       "\n",
       "    .dataframe tbody tr th {\n",
       "        vertical-align: top;\n",
       "    }\n",
       "\n",
       "    .dataframe thead th {\n",
       "        text-align: right;\n",
       "    }\n",
       "</style>\n",
       "<table border=\"1\" class=\"dataframe\">\n",
       "  <thead>\n",
       "    <tr style=\"text-align: right;\">\n",
       "      <th></th>\n",
       "      <th>Year</th>\n",
       "      <th>Life Ladder</th>\n",
       "      <th>Log GDP Per Capita</th>\n",
       "      <th>Social Support</th>\n",
       "      <th>Healthy Life Expectancy At Birth</th>\n",
       "      <th>Freedom To Make Life Choices</th>\n",
       "      <th>Generosity</th>\n",
       "      <th>Perceptions Of Corruption</th>\n",
       "      <th>Positive Affect</th>\n",
       "      <th>Negative Affect</th>\n",
       "      <th>Confidence In National Government</th>\n",
       "    </tr>\n",
       "  </thead>\n",
       "  <tbody>\n",
       "    <tr>\n",
       "      <th>count</th>\n",
       "      <td>2199.000000</td>\n",
       "      <td>2199.000000</td>\n",
       "      <td>2199.000000</td>\n",
       "      <td>2199.000000</td>\n",
       "      <td>2199.000000</td>\n",
       "      <td>2199.000000</td>\n",
       "      <td>2199.000000</td>\n",
       "      <td>2199.000000</td>\n",
       "      <td>2199.000000</td>\n",
       "      <td>2199.000000</td>\n",
       "      <td>2199.000000</td>\n",
       "    </tr>\n",
       "    <tr>\n",
       "      <th>mean</th>\n",
       "      <td>2014.161437</td>\n",
       "      <td>5.479226</td>\n",
       "      <td>9.304365</td>\n",
       "      <td>0.805887</td>\n",
       "      <td>61.740282</td>\n",
       "      <td>0.736635</td>\n",
       "      <td>0.000093</td>\n",
       "      <td>0.705885</td>\n",
       "      <td>0.645026</td>\n",
       "      <td>0.269526</td>\n",
       "      <td>0.404543</td>\n",
       "    </tr>\n",
       "    <tr>\n",
       "      <th>std</th>\n",
       "      <td>4.718736</td>\n",
       "      <td>1.125529</td>\n",
       "      <td>1.453669</td>\n",
       "      <td>0.135672</td>\n",
       "      <td>11.935737</td>\n",
       "      <td>0.166187</td>\n",
       "      <td>0.158385</td>\n",
       "      <td>0.245914</td>\n",
       "      <td>0.125260</td>\n",
       "      <td>0.089583</td>\n",
       "      <td>0.251619</td>\n",
       "    </tr>\n",
       "    <tr>\n",
       "      <th>min</th>\n",
       "      <td>2005.000000</td>\n",
       "      <td>1.281271</td>\n",
       "      <td>0.000000</td>\n",
       "      <td>0.000000</td>\n",
       "      <td>0.000000</td>\n",
       "      <td>0.000000</td>\n",
       "      <td>-0.337527</td>\n",
       "      <td>0.000000</td>\n",
       "      <td>0.000000</td>\n",
       "      <td>0.000000</td>\n",
       "      <td>0.000000</td>\n",
       "    </tr>\n",
       "    <tr>\n",
       "      <th>25%</th>\n",
       "      <td>2010.000000</td>\n",
       "      <td>4.646750</td>\n",
       "      <td>8.475875</td>\n",
       "      <td>0.743763</td>\n",
       "      <td>58.309999</td>\n",
       "      <td>0.649845</td>\n",
       "      <td>-0.107358</td>\n",
       "      <td>0.656564</td>\n",
       "      <td>0.567666</td>\n",
       "      <td>0.206611</td>\n",
       "      <td>0.244992</td>\n",
       "    </tr>\n",
       "    <tr>\n",
       "      <th>50%</th>\n",
       "      <td>2014.000000</td>\n",
       "      <td>5.432437</td>\n",
       "      <td>9.491772</td>\n",
       "      <td>0.834280</td>\n",
       "      <td>64.879997</td>\n",
       "      <td>0.766945</td>\n",
       "      <td>-0.016512</td>\n",
       "      <td>0.791269</td>\n",
       "      <td>0.661645</td>\n",
       "      <td>0.260133</td>\n",
       "      <td>0.414390</td>\n",
       "    </tr>\n",
       "    <tr>\n",
       "      <th>75%</th>\n",
       "      <td>2018.000000</td>\n",
       "      <td>6.309460</td>\n",
       "      <td>10.366237</td>\n",
       "      <td>0.904607</td>\n",
       "      <td>68.329998</td>\n",
       "      <td>0.857775</td>\n",
       "      <td>0.086938</td>\n",
       "      <td>0.865565</td>\n",
       "      <td>0.736762</td>\n",
       "      <td>0.322382</td>\n",
       "      <td>0.588172</td>\n",
       "    </tr>\n",
       "    <tr>\n",
       "      <th>max</th>\n",
       "      <td>2022.000000</td>\n",
       "      <td>8.018934</td>\n",
       "      <td>11.663788</td>\n",
       "      <td>0.987343</td>\n",
       "      <td>74.474998</td>\n",
       "      <td>0.985178</td>\n",
       "      <td>0.702708</td>\n",
       "      <td>0.983276</td>\n",
       "      <td>0.883586</td>\n",
       "      <td>0.704590</td>\n",
       "      <td>0.993604</td>\n",
       "    </tr>\n",
       "  </tbody>\n",
       "</table>\n",
       "</div>"
      ],
      "text/plain": [
       "              Year  Life Ladder  Log GDP Per Capita  Social Support  \\\n",
       "count  2199.000000  2199.000000         2199.000000     2199.000000   \n",
       "mean   2014.161437     5.479226            9.304365        0.805887   \n",
       "std       4.718736     1.125529            1.453669        0.135672   \n",
       "min    2005.000000     1.281271            0.000000        0.000000   \n",
       "25%    2010.000000     4.646750            8.475875        0.743763   \n",
       "50%    2014.000000     5.432437            9.491772        0.834280   \n",
       "75%    2018.000000     6.309460           10.366237        0.904607   \n",
       "max    2022.000000     8.018934           11.663788        0.987343   \n",
       "\n",
       "       Healthy Life Expectancy At Birth  Freedom To Make Life Choices  \\\n",
       "count                       2199.000000                   2199.000000   \n",
       "mean                          61.740282                      0.736635   \n",
       "std                           11.935737                      0.166187   \n",
       "min                            0.000000                      0.000000   \n",
       "25%                           58.309999                      0.649845   \n",
       "50%                           64.879997                      0.766945   \n",
       "75%                           68.329998                      0.857775   \n",
       "max                           74.474998                      0.985178   \n",
       "\n",
       "        Generosity  Perceptions Of Corruption  Positive Affect  \\\n",
       "count  2199.000000                2199.000000      2199.000000   \n",
       "mean      0.000093                   0.705885         0.645026   \n",
       "std       0.158385                   0.245914         0.125260   \n",
       "min      -0.337527                   0.000000         0.000000   \n",
       "25%      -0.107358                   0.656564         0.567666   \n",
       "50%      -0.016512                   0.791269         0.661645   \n",
       "75%       0.086938                   0.865565         0.736762   \n",
       "max       0.702708                   0.983276         0.883586   \n",
       "\n",
       "       Negative Affect  Confidence In National Government  \n",
       "count      2199.000000                        2199.000000  \n",
       "mean          0.269526                           0.404543  \n",
       "std           0.089583                           0.251619  \n",
       "min           0.000000                           0.000000  \n",
       "25%           0.206611                           0.244992  \n",
       "50%           0.260133                           0.414390  \n",
       "75%           0.322382                           0.588172  \n",
       "max           0.704590                           0.993604  "
      ]
     },
     "execution_count": 68,
     "metadata": {},
     "output_type": "execute_result"
    }
   ],
   "source": [
    "happiness2.describe()"
   ]
  },
  {
   "cell_type": "code",
   "execution_count": 62,
   "id": "3084dcaa",
   "metadata": {},
   "outputs": [
    {
     "data": {
      "application/vnd.plotly.v1+json": {
       "config": {
        "plotlyServerURL": "https://plot.ly"
       },
       "data": [
        {
         "coloraxis": "coloraxis",
         "hovertemplate": "x: %{x}<br>y: %{y}<br>color: %{z}<extra></extra>",
         "name": "0",
         "texttemplate": "%{z}",
         "type": "heatmap",
         "x": [
          "Year",
          "Life Ladder",
          "Log GDP Per Capita",
          "Social Support",
          "Healthy Life Expectancy At Birth",
          "Freedom To Make Life Choices",
          "Generosity",
          "Perceptions Of Corruption",
          "Positive Affect",
          "Negative Affect",
          "Confidence In National Government"
         ],
         "xaxis": "x",
         "y": [
          "Year",
          "Life Ladder",
          "Log GDP Per Capita",
          "Social Support",
          "Healthy Life Expectancy At Birth",
          "Freedom To Make Life Choices",
          "Generosity",
          "Perceptions Of Corruption",
          "Positive Affect",
          "Negative Affect",
          "Confidence In National Government"
         ],
         "yaxis": "y",
         "z": [
          [
           1,
           0.04594295171626369,
           0.07777203920109751,
           -0.02975046821282155,
           0.1634995826196434,
           0.2341051794267004,
           0.00572613387871188,
           -0.08135767522450787,
           0.01918217891412432,
           0.20536906193077398,
           0.012637538289617336
          ],
          [
           0.04594295171626369,
           1,
           0.78487080869899,
           0.721663355397355,
           0.7134926136580739,
           0.534532281181744,
           0.1816580875522955,
           -0.43156896185456484,
           0.5182072498202096,
           -0.33999179215853,
           -0.08188677876699203
          ],
          [
           0.07777203920109751,
           0.78487080869899,
           1,
           0.6836185841456904,
           0.8181259242338239,
           0.36756008801784185,
           -0.000799722994815347,
           -0.35288449991820575,
           0.23798641384755514,
           -0.24755955122761672,
           -0.1883505293379961
          ],
          [
           -0.02975046821282155,
           0.721663355397355,
           0.6836185841456904,
           1,
           0.5976823500332538,
           0.4094389566961722,
           0.06859287085253787,
           -0.222583666016795,
           0.4311386450718828,
           -0.4417995625769296,
           -0.1695729233423846
          ],
          [
           0.1634995826196434,
           0.7134926136580739,
           0.8181259242338239,
           0.5976823500332538,
           1,
           0.3734477850909955,
           0.010876369316137266,
           -0.29905491320857663,
           0.22311853668560203,
           -0.1407261353253471,
           -0.17800317308065375
          ],
          [
           0.2341051794267004,
           0.534532281181744,
           0.36756008801784185,
           0.4094389566961722,
           0.3734477850909955,
           1,
           0.3251072808550255,
           -0.47653719421040974,
           0.5787520913716118,
           -0.27546950971671,
           0.40853257982755714
          ],
          [
           0.00572613387871188,
           0.1816580875522955,
           -0.000799722994815347,
           0.06859287085253787,
           0.010876369316137266,
           0.3251072808550255,
           1,
           -0.27949403797555655,
           0.30714031508701634,
           -0.08083727711490657,
           0.2943985858730801
          ],
          [
           -0.08135767522450787,
           -0.43156896185456484,
           -0.35288449991820575,
           -0.222583666016795,
           -0.29905491320857663,
           -0.47653719421040974,
           -0.27949403797555655,
           1,
           -0.2806201102169848,
           0.26626728816685424,
           -0.46078891526294347
          ],
          [
           0.01918217891412432,
           0.5182072498202096,
           0.23798641384755514,
           0.4311386450718828,
           0.22311853668560203,
           0.5787520913716118,
           0.30714031508701634,
           -0.2806201102169848,
           1,
           -0.33023646611279384,
           0.12324077232446247
          ],
          [
           0.20536906193077398,
           -0.33999179215853,
           -0.24755955122761672,
           -0.4417995625769296,
           -0.1407261353253471,
           -0.27546950971671,
           -0.08083727711490657,
           0.26626728816685424,
           -0.33023646611279384,
           1,
           -0.12563144240154586
          ],
          [
           0.012637538289617336,
           -0.08188677876699203,
           -0.1883505293379961,
           -0.1695729233423846,
           -0.17800317308065375,
           0.40853257982755714,
           0.2943985858730801,
           -0.46078891526294347,
           0.12324077232446247,
           -0.12563144240154586,
           1
          ]
         ]
        }
       ],
       "layout": {
        "coloraxis": {
         "autocolorscale": true,
         "colorscale": [
          [
           0,
           "#0d0887"
          ],
          [
           0.1111111111111111,
           "#46039f"
          ],
          [
           0.2222222222222222,
           "#7201a8"
          ],
          [
           0.3333333333333333,
           "#9c179e"
          ],
          [
           0.4444444444444444,
           "#bd3786"
          ],
          [
           0.5555555555555556,
           "#d8576b"
          ],
          [
           0.6666666666666666,
           "#ed7953"
          ],
          [
           0.7777777777777778,
           "#fb9f3a"
          ],
          [
           0.8888888888888888,
           "#fdca26"
          ],
          [
           1,
           "#f0f921"
          ]
         ]
        },
        "height": 700,
        "margin": {
         "b": 0,
         "l": 0,
         "r": 0,
         "t": 0
        },
        "template": {
         "data": {
          "bar": [
           {
            "error_x": {
             "color": "#2a3f5f"
            },
            "error_y": {
             "color": "#2a3f5f"
            },
            "marker": {
             "line": {
              "color": "#E5ECF6",
              "width": 0.5
             },
             "pattern": {
              "fillmode": "overlay",
              "size": 10,
              "solidity": 0.2
             }
            },
            "type": "bar"
           }
          ],
          "barpolar": [
           {
            "marker": {
             "line": {
              "color": "#E5ECF6",
              "width": 0.5
             },
             "pattern": {
              "fillmode": "overlay",
              "size": 10,
              "solidity": 0.2
             }
            },
            "type": "barpolar"
           }
          ],
          "carpet": [
           {
            "aaxis": {
             "endlinecolor": "#2a3f5f",
             "gridcolor": "white",
             "linecolor": "white",
             "minorgridcolor": "white",
             "startlinecolor": "#2a3f5f"
            },
            "baxis": {
             "endlinecolor": "#2a3f5f",
             "gridcolor": "white",
             "linecolor": "white",
             "minorgridcolor": "white",
             "startlinecolor": "#2a3f5f"
            },
            "type": "carpet"
           }
          ],
          "choropleth": [
           {
            "colorbar": {
             "outlinewidth": 0,
             "ticks": ""
            },
            "type": "choropleth"
           }
          ],
          "contour": [
           {
            "colorbar": {
             "outlinewidth": 0,
             "ticks": ""
            },
            "colorscale": [
             [
              0,
              "#0d0887"
             ],
             [
              0.1111111111111111,
              "#46039f"
             ],
             [
              0.2222222222222222,
              "#7201a8"
             ],
             [
              0.3333333333333333,
              "#9c179e"
             ],
             [
              0.4444444444444444,
              "#bd3786"
             ],
             [
              0.5555555555555556,
              "#d8576b"
             ],
             [
              0.6666666666666666,
              "#ed7953"
             ],
             [
              0.7777777777777778,
              "#fb9f3a"
             ],
             [
              0.8888888888888888,
              "#fdca26"
             ],
             [
              1,
              "#f0f921"
             ]
            ],
            "type": "contour"
           }
          ],
          "contourcarpet": [
           {
            "colorbar": {
             "outlinewidth": 0,
             "ticks": ""
            },
            "type": "contourcarpet"
           }
          ],
          "heatmap": [
           {
            "colorbar": {
             "outlinewidth": 0,
             "ticks": ""
            },
            "colorscale": [
             [
              0,
              "#0d0887"
             ],
             [
              0.1111111111111111,
              "#46039f"
             ],
             [
              0.2222222222222222,
              "#7201a8"
             ],
             [
              0.3333333333333333,
              "#9c179e"
             ],
             [
              0.4444444444444444,
              "#bd3786"
             ],
             [
              0.5555555555555556,
              "#d8576b"
             ],
             [
              0.6666666666666666,
              "#ed7953"
             ],
             [
              0.7777777777777778,
              "#fb9f3a"
             ],
             [
              0.8888888888888888,
              "#fdca26"
             ],
             [
              1,
              "#f0f921"
             ]
            ],
            "type": "heatmap"
           }
          ],
          "heatmapgl": [
           {
            "colorbar": {
             "outlinewidth": 0,
             "ticks": ""
            },
            "colorscale": [
             [
              0,
              "#0d0887"
             ],
             [
              0.1111111111111111,
              "#46039f"
             ],
             [
              0.2222222222222222,
              "#7201a8"
             ],
             [
              0.3333333333333333,
              "#9c179e"
             ],
             [
              0.4444444444444444,
              "#bd3786"
             ],
             [
              0.5555555555555556,
              "#d8576b"
             ],
             [
              0.6666666666666666,
              "#ed7953"
             ],
             [
              0.7777777777777778,
              "#fb9f3a"
             ],
             [
              0.8888888888888888,
              "#fdca26"
             ],
             [
              1,
              "#f0f921"
             ]
            ],
            "type": "heatmapgl"
           }
          ],
          "histogram": [
           {
            "marker": {
             "pattern": {
              "fillmode": "overlay",
              "size": 10,
              "solidity": 0.2
             }
            },
            "type": "histogram"
           }
          ],
          "histogram2d": [
           {
            "colorbar": {
             "outlinewidth": 0,
             "ticks": ""
            },
            "colorscale": [
             [
              0,
              "#0d0887"
             ],
             [
              0.1111111111111111,
              "#46039f"
             ],
             [
              0.2222222222222222,
              "#7201a8"
             ],
             [
              0.3333333333333333,
              "#9c179e"
             ],
             [
              0.4444444444444444,
              "#bd3786"
             ],
             [
              0.5555555555555556,
              "#d8576b"
             ],
             [
              0.6666666666666666,
              "#ed7953"
             ],
             [
              0.7777777777777778,
              "#fb9f3a"
             ],
             [
              0.8888888888888888,
              "#fdca26"
             ],
             [
              1,
              "#f0f921"
             ]
            ],
            "type": "histogram2d"
           }
          ],
          "histogram2dcontour": [
           {
            "colorbar": {
             "outlinewidth": 0,
             "ticks": ""
            },
            "colorscale": [
             [
              0,
              "#0d0887"
             ],
             [
              0.1111111111111111,
              "#46039f"
             ],
             [
              0.2222222222222222,
              "#7201a8"
             ],
             [
              0.3333333333333333,
              "#9c179e"
             ],
             [
              0.4444444444444444,
              "#bd3786"
             ],
             [
              0.5555555555555556,
              "#d8576b"
             ],
             [
              0.6666666666666666,
              "#ed7953"
             ],
             [
              0.7777777777777778,
              "#fb9f3a"
             ],
             [
              0.8888888888888888,
              "#fdca26"
             ],
             [
              1,
              "#f0f921"
             ]
            ],
            "type": "histogram2dcontour"
           }
          ],
          "mesh3d": [
           {
            "colorbar": {
             "outlinewidth": 0,
             "ticks": ""
            },
            "type": "mesh3d"
           }
          ],
          "parcoords": [
           {
            "line": {
             "colorbar": {
              "outlinewidth": 0,
              "ticks": ""
             }
            },
            "type": "parcoords"
           }
          ],
          "pie": [
           {
            "automargin": true,
            "type": "pie"
           }
          ],
          "scatter": [
           {
            "marker": {
             "colorbar": {
              "outlinewidth": 0,
              "ticks": ""
             }
            },
            "type": "scatter"
           }
          ],
          "scatter3d": [
           {
            "line": {
             "colorbar": {
              "outlinewidth": 0,
              "ticks": ""
             }
            },
            "marker": {
             "colorbar": {
              "outlinewidth": 0,
              "ticks": ""
             }
            },
            "type": "scatter3d"
           }
          ],
          "scattercarpet": [
           {
            "marker": {
             "colorbar": {
              "outlinewidth": 0,
              "ticks": ""
             }
            },
            "type": "scattercarpet"
           }
          ],
          "scattergeo": [
           {
            "marker": {
             "colorbar": {
              "outlinewidth": 0,
              "ticks": ""
             }
            },
            "type": "scattergeo"
           }
          ],
          "scattergl": [
           {
            "marker": {
             "colorbar": {
              "outlinewidth": 0,
              "ticks": ""
             }
            },
            "type": "scattergl"
           }
          ],
          "scattermapbox": [
           {
            "marker": {
             "colorbar": {
              "outlinewidth": 0,
              "ticks": ""
             }
            },
            "type": "scattermapbox"
           }
          ],
          "scatterpolar": [
           {
            "marker": {
             "colorbar": {
              "outlinewidth": 0,
              "ticks": ""
             }
            },
            "type": "scatterpolar"
           }
          ],
          "scatterpolargl": [
           {
            "marker": {
             "colorbar": {
              "outlinewidth": 0,
              "ticks": ""
             }
            },
            "type": "scatterpolargl"
           }
          ],
          "scatterternary": [
           {
            "marker": {
             "colorbar": {
              "outlinewidth": 0,
              "ticks": ""
             }
            },
            "type": "scatterternary"
           }
          ],
          "surface": [
           {
            "colorbar": {
             "outlinewidth": 0,
             "ticks": ""
            },
            "colorscale": [
             [
              0,
              "#0d0887"
             ],
             [
              0.1111111111111111,
              "#46039f"
             ],
             [
              0.2222222222222222,
              "#7201a8"
             ],
             [
              0.3333333333333333,
              "#9c179e"
             ],
             [
              0.4444444444444444,
              "#bd3786"
             ],
             [
              0.5555555555555556,
              "#d8576b"
             ],
             [
              0.6666666666666666,
              "#ed7953"
             ],
             [
              0.7777777777777778,
              "#fb9f3a"
             ],
             [
              0.8888888888888888,
              "#fdca26"
             ],
             [
              1,
              "#f0f921"
             ]
            ],
            "type": "surface"
           }
          ],
          "table": [
           {
            "cells": {
             "fill": {
              "color": "#EBF0F8"
             },
             "line": {
              "color": "white"
             }
            },
            "header": {
             "fill": {
              "color": "#C8D4E3"
             },
             "line": {
              "color": "white"
             }
            },
            "type": "table"
           }
          ]
         },
         "layout": {
          "annotationdefaults": {
           "arrowcolor": "#2a3f5f",
           "arrowhead": 0,
           "arrowwidth": 1
          },
          "autotypenumbers": "strict",
          "coloraxis": {
           "colorbar": {
            "outlinewidth": 0,
            "ticks": ""
           }
          },
          "colorscale": {
           "diverging": [
            [
             0,
             "#8e0152"
            ],
            [
             0.1,
             "#c51b7d"
            ],
            [
             0.2,
             "#de77ae"
            ],
            [
             0.3,
             "#f1b6da"
            ],
            [
             0.4,
             "#fde0ef"
            ],
            [
             0.5,
             "#f7f7f7"
            ],
            [
             0.6,
             "#e6f5d0"
            ],
            [
             0.7,
             "#b8e186"
            ],
            [
             0.8,
             "#7fbc41"
            ],
            [
             0.9,
             "#4d9221"
            ],
            [
             1,
             "#276419"
            ]
           ],
           "sequential": [
            [
             0,
             "#0d0887"
            ],
            [
             0.1111111111111111,
             "#46039f"
            ],
            [
             0.2222222222222222,
             "#7201a8"
            ],
            [
             0.3333333333333333,
             "#9c179e"
            ],
            [
             0.4444444444444444,
             "#bd3786"
            ],
            [
             0.5555555555555556,
             "#d8576b"
            ],
            [
             0.6666666666666666,
             "#ed7953"
            ],
            [
             0.7777777777777778,
             "#fb9f3a"
            ],
            [
             0.8888888888888888,
             "#fdca26"
            ],
            [
             1,
             "#f0f921"
            ]
           ],
           "sequentialminus": [
            [
             0,
             "#0d0887"
            ],
            [
             0.1111111111111111,
             "#46039f"
            ],
            [
             0.2222222222222222,
             "#7201a8"
            ],
            [
             0.3333333333333333,
             "#9c179e"
            ],
            [
             0.4444444444444444,
             "#bd3786"
            ],
            [
             0.5555555555555556,
             "#d8576b"
            ],
            [
             0.6666666666666666,
             "#ed7953"
            ],
            [
             0.7777777777777778,
             "#fb9f3a"
            ],
            [
             0.8888888888888888,
             "#fdca26"
            ],
            [
             1,
             "#f0f921"
            ]
           ]
          },
          "colorway": [
           "#636efa",
           "#EF553B",
           "#00cc96",
           "#ab63fa",
           "#FFA15A",
           "#19d3f3",
           "#FF6692",
           "#B6E880",
           "#FF97FF",
           "#FECB52"
          ],
          "font": {
           "color": "#2a3f5f"
          },
          "geo": {
           "bgcolor": "white",
           "lakecolor": "white",
           "landcolor": "#E5ECF6",
           "showlakes": true,
           "showland": true,
           "subunitcolor": "white"
          },
          "hoverlabel": {
           "align": "left"
          },
          "hovermode": "closest",
          "mapbox": {
           "style": "light"
          },
          "paper_bgcolor": "white",
          "plot_bgcolor": "#E5ECF6",
          "polar": {
           "angularaxis": {
            "gridcolor": "white",
            "linecolor": "white",
            "ticks": ""
           },
           "bgcolor": "#E5ECF6",
           "radialaxis": {
            "gridcolor": "white",
            "linecolor": "white",
            "ticks": ""
           }
          },
          "scene": {
           "xaxis": {
            "backgroundcolor": "#E5ECF6",
            "gridcolor": "white",
            "gridwidth": 2,
            "linecolor": "white",
            "showbackground": true,
            "ticks": "",
            "zerolinecolor": "white"
           },
           "yaxis": {
            "backgroundcolor": "#E5ECF6",
            "gridcolor": "white",
            "gridwidth": 2,
            "linecolor": "white",
            "showbackground": true,
            "ticks": "",
            "zerolinecolor": "white"
           },
           "zaxis": {
            "backgroundcolor": "#E5ECF6",
            "gridcolor": "white",
            "gridwidth": 2,
            "linecolor": "white",
            "showbackground": true,
            "ticks": "",
            "zerolinecolor": "white"
           }
          },
          "shapedefaults": {
           "line": {
            "color": "#2a3f5f"
           }
          },
          "ternary": {
           "aaxis": {
            "gridcolor": "white",
            "linecolor": "white",
            "ticks": ""
           },
           "baxis": {
            "gridcolor": "white",
            "linecolor": "white",
            "ticks": ""
           },
           "bgcolor": "#E5ECF6",
           "caxis": {
            "gridcolor": "white",
            "linecolor": "white",
            "ticks": ""
           }
          },
          "title": {
           "x": 0.05
          },
          "xaxis": {
           "automargin": true,
           "gridcolor": "white",
           "linecolor": "white",
           "ticks": "",
           "title": {
            "standoff": 15
           },
           "zerolinecolor": "white",
           "zerolinewidth": 2
          },
          "yaxis": {
           "automargin": true,
           "gridcolor": "white",
           "linecolor": "white",
           "ticks": "",
           "title": {
            "standoff": 15
           },
           "zerolinecolor": "white",
           "zerolinewidth": 2
          }
         }
        },
        "width": 1000,
        "xaxis": {
         "anchor": "y",
         "constrain": "domain",
         "domain": [
          0,
          1
         ],
         "scaleanchor": "y"
        },
        "yaxis": {
         "anchor": "x",
         "autorange": "reversed",
         "constrain": "domain",
         "domain": [
          0,
          1
         ]
        }
       }
      },
      "text/html": [
       "<div>                            <div id=\"41cfe8bc-2a85-4f52-80e2-c19b893fe2c6\" class=\"plotly-graph-div\" style=\"height:700px; width:1000px;\"></div>            <script type=\"text/javascript\">                require([\"plotly\"], function(Plotly) {                    window.PLOTLYENV=window.PLOTLYENV || {};                                    if (document.getElementById(\"41cfe8bc-2a85-4f52-80e2-c19b893fe2c6\")) {                    Plotly.newPlot(                        \"41cfe8bc-2a85-4f52-80e2-c19b893fe2c6\",                        [{\"coloraxis\":\"coloraxis\",\"name\":\"0\",\"texttemplate\":\"%{z}\",\"x\":[\"Year\",\"Life Ladder\",\"Log GDP Per Capita\",\"Social Support\",\"Healthy Life Expectancy At Birth\",\"Freedom To Make Life Choices\",\"Generosity\",\"Perceptions Of Corruption\",\"Positive Affect\",\"Negative Affect\",\"Confidence In National Government\"],\"y\":[\"Year\",\"Life Ladder\",\"Log GDP Per Capita\",\"Social Support\",\"Healthy Life Expectancy At Birth\",\"Freedom To Make Life Choices\",\"Generosity\",\"Perceptions Of Corruption\",\"Positive Affect\",\"Negative Affect\",\"Confidence In National Government\"],\"z\":[[1.0,0.04594295171626369,0.07777203920109751,-0.02975046821282155,0.1634995826196434,0.2341051794267004,0.00572613387871188,-0.08135767522450787,0.01918217891412432,0.20536906193077398,0.012637538289617336],[0.04594295171626369,1.0,0.78487080869899,0.721663355397355,0.7134926136580739,0.534532281181744,0.1816580875522955,-0.43156896185456484,0.5182072498202096,-0.33999179215853,-0.08188677876699203],[0.07777203920109751,0.78487080869899,1.0,0.6836185841456904,0.8181259242338239,0.36756008801784185,-0.000799722994815347,-0.35288449991820575,0.23798641384755514,-0.24755955122761672,-0.1883505293379961],[-0.02975046821282155,0.721663355397355,0.6836185841456904,1.0,0.5976823500332538,0.4094389566961722,0.06859287085253787,-0.222583666016795,0.4311386450718828,-0.4417995625769296,-0.1695729233423846],[0.1634995826196434,0.7134926136580739,0.8181259242338239,0.5976823500332538,1.0,0.3734477850909955,0.010876369316137266,-0.29905491320857663,0.22311853668560203,-0.1407261353253471,-0.17800317308065375],[0.2341051794267004,0.534532281181744,0.36756008801784185,0.4094389566961722,0.3734477850909955,1.0,0.3251072808550255,-0.47653719421040974,0.5787520913716118,-0.27546950971671,0.40853257982755714],[0.00572613387871188,0.1816580875522955,-0.000799722994815347,0.06859287085253787,0.010876369316137266,0.3251072808550255,1.0,-0.27949403797555655,0.30714031508701634,-0.08083727711490657,0.2943985858730801],[-0.08135767522450787,-0.43156896185456484,-0.35288449991820575,-0.222583666016795,-0.29905491320857663,-0.47653719421040974,-0.27949403797555655,1.0,-0.2806201102169848,0.26626728816685424,-0.46078891526294347],[0.01918217891412432,0.5182072498202096,0.23798641384755514,0.4311386450718828,0.22311853668560203,0.5787520913716118,0.30714031508701634,-0.2806201102169848,1.0,-0.33023646611279384,0.12324077232446247],[0.20536906193077398,-0.33999179215853,-0.24755955122761672,-0.4417995625769296,-0.1407261353253471,-0.27546950971671,-0.08083727711490657,0.26626728816685424,-0.33023646611279384,1.0,-0.12563144240154586],[0.012637538289617336,-0.08188677876699203,-0.1883505293379961,-0.1695729233423846,-0.17800317308065375,0.40853257982755714,0.2943985858730801,-0.46078891526294347,0.12324077232446247,-0.12563144240154586,1.0]],\"type\":\"heatmap\",\"xaxis\":\"x\",\"yaxis\":\"y\",\"hovertemplate\":\"x: %{x}<br>y: %{y}<br>color: %{z}<extra></extra>\"}],                        {\"template\":{\"data\":{\"bar\":[{\"error_x\":{\"color\":\"#2a3f5f\"},\"error_y\":{\"color\":\"#2a3f5f\"},\"marker\":{\"line\":{\"color\":\"#E5ECF6\",\"width\":0.5},\"pattern\":{\"fillmode\":\"overlay\",\"size\":10,\"solidity\":0.2}},\"type\":\"bar\"}],\"barpolar\":[{\"marker\":{\"line\":{\"color\":\"#E5ECF6\",\"width\":0.5},\"pattern\":{\"fillmode\":\"overlay\",\"size\":10,\"solidity\":0.2}},\"type\":\"barpolar\"}],\"carpet\":[{\"aaxis\":{\"endlinecolor\":\"#2a3f5f\",\"gridcolor\":\"white\",\"linecolor\":\"white\",\"minorgridcolor\":\"white\",\"startlinecolor\":\"#2a3f5f\"},\"baxis\":{\"endlinecolor\":\"#2a3f5f\",\"gridcolor\":\"white\",\"linecolor\":\"white\",\"minorgridcolor\":\"white\",\"startlinecolor\":\"#2a3f5f\"},\"type\":\"carpet\"}],\"choropleth\":[{\"colorbar\":{\"outlinewidth\":0,\"ticks\":\"\"},\"type\":\"choropleth\"}],\"contour\":[{\"colorbar\":{\"outlinewidth\":0,\"ticks\":\"\"},\"colorscale\":[[0.0,\"#0d0887\"],[0.1111111111111111,\"#46039f\"],[0.2222222222222222,\"#7201a8\"],[0.3333333333333333,\"#9c179e\"],[0.4444444444444444,\"#bd3786\"],[0.5555555555555556,\"#d8576b\"],[0.6666666666666666,\"#ed7953\"],[0.7777777777777778,\"#fb9f3a\"],[0.8888888888888888,\"#fdca26\"],[1.0,\"#f0f921\"]],\"type\":\"contour\"}],\"contourcarpet\":[{\"colorbar\":{\"outlinewidth\":0,\"ticks\":\"\"},\"type\":\"contourcarpet\"}],\"heatmap\":[{\"colorbar\":{\"outlinewidth\":0,\"ticks\":\"\"},\"colorscale\":[[0.0,\"#0d0887\"],[0.1111111111111111,\"#46039f\"],[0.2222222222222222,\"#7201a8\"],[0.3333333333333333,\"#9c179e\"],[0.4444444444444444,\"#bd3786\"],[0.5555555555555556,\"#d8576b\"],[0.6666666666666666,\"#ed7953\"],[0.7777777777777778,\"#fb9f3a\"],[0.8888888888888888,\"#fdca26\"],[1.0,\"#f0f921\"]],\"type\":\"heatmap\"}],\"heatmapgl\":[{\"colorbar\":{\"outlinewidth\":0,\"ticks\":\"\"},\"colorscale\":[[0.0,\"#0d0887\"],[0.1111111111111111,\"#46039f\"],[0.2222222222222222,\"#7201a8\"],[0.3333333333333333,\"#9c179e\"],[0.4444444444444444,\"#bd3786\"],[0.5555555555555556,\"#d8576b\"],[0.6666666666666666,\"#ed7953\"],[0.7777777777777778,\"#fb9f3a\"],[0.8888888888888888,\"#fdca26\"],[1.0,\"#f0f921\"]],\"type\":\"heatmapgl\"}],\"histogram\":[{\"marker\":{\"pattern\":{\"fillmode\":\"overlay\",\"size\":10,\"solidity\":0.2}},\"type\":\"histogram\"}],\"histogram2d\":[{\"colorbar\":{\"outlinewidth\":0,\"ticks\":\"\"},\"colorscale\":[[0.0,\"#0d0887\"],[0.1111111111111111,\"#46039f\"],[0.2222222222222222,\"#7201a8\"],[0.3333333333333333,\"#9c179e\"],[0.4444444444444444,\"#bd3786\"],[0.5555555555555556,\"#d8576b\"],[0.6666666666666666,\"#ed7953\"],[0.7777777777777778,\"#fb9f3a\"],[0.8888888888888888,\"#fdca26\"],[1.0,\"#f0f921\"]],\"type\":\"histogram2d\"}],\"histogram2dcontour\":[{\"colorbar\":{\"outlinewidth\":0,\"ticks\":\"\"},\"colorscale\":[[0.0,\"#0d0887\"],[0.1111111111111111,\"#46039f\"],[0.2222222222222222,\"#7201a8\"],[0.3333333333333333,\"#9c179e\"],[0.4444444444444444,\"#bd3786\"],[0.5555555555555556,\"#d8576b\"],[0.6666666666666666,\"#ed7953\"],[0.7777777777777778,\"#fb9f3a\"],[0.8888888888888888,\"#fdca26\"],[1.0,\"#f0f921\"]],\"type\":\"histogram2dcontour\"}],\"mesh3d\":[{\"colorbar\":{\"outlinewidth\":0,\"ticks\":\"\"},\"type\":\"mesh3d\"}],\"parcoords\":[{\"line\":{\"colorbar\":{\"outlinewidth\":0,\"ticks\":\"\"}},\"type\":\"parcoords\"}],\"pie\":[{\"automargin\":true,\"type\":\"pie\"}],\"scatter\":[{\"marker\":{\"colorbar\":{\"outlinewidth\":0,\"ticks\":\"\"}},\"type\":\"scatter\"}],\"scatter3d\":[{\"line\":{\"colorbar\":{\"outlinewidth\":0,\"ticks\":\"\"}},\"marker\":{\"colorbar\":{\"outlinewidth\":0,\"ticks\":\"\"}},\"type\":\"scatter3d\"}],\"scattercarpet\":[{\"marker\":{\"colorbar\":{\"outlinewidth\":0,\"ticks\":\"\"}},\"type\":\"scattercarpet\"}],\"scattergeo\":[{\"marker\":{\"colorbar\":{\"outlinewidth\":0,\"ticks\":\"\"}},\"type\":\"scattergeo\"}],\"scattergl\":[{\"marker\":{\"colorbar\":{\"outlinewidth\":0,\"ticks\":\"\"}},\"type\":\"scattergl\"}],\"scattermapbox\":[{\"marker\":{\"colorbar\":{\"outlinewidth\":0,\"ticks\":\"\"}},\"type\":\"scattermapbox\"}],\"scatterpolar\":[{\"marker\":{\"colorbar\":{\"outlinewidth\":0,\"ticks\":\"\"}},\"type\":\"scatterpolar\"}],\"scatterpolargl\":[{\"marker\":{\"colorbar\":{\"outlinewidth\":0,\"ticks\":\"\"}},\"type\":\"scatterpolargl\"}],\"scatterternary\":[{\"marker\":{\"colorbar\":{\"outlinewidth\":0,\"ticks\":\"\"}},\"type\":\"scatterternary\"}],\"surface\":[{\"colorbar\":{\"outlinewidth\":0,\"ticks\":\"\"},\"colorscale\":[[0.0,\"#0d0887\"],[0.1111111111111111,\"#46039f\"],[0.2222222222222222,\"#7201a8\"],[0.3333333333333333,\"#9c179e\"],[0.4444444444444444,\"#bd3786\"],[0.5555555555555556,\"#d8576b\"],[0.6666666666666666,\"#ed7953\"],[0.7777777777777778,\"#fb9f3a\"],[0.8888888888888888,\"#fdca26\"],[1.0,\"#f0f921\"]],\"type\":\"surface\"}],\"table\":[{\"cells\":{\"fill\":{\"color\":\"#EBF0F8\"},\"line\":{\"color\":\"white\"}},\"header\":{\"fill\":{\"color\":\"#C8D4E3\"},\"line\":{\"color\":\"white\"}},\"type\":\"table\"}]},\"layout\":{\"annotationdefaults\":{\"arrowcolor\":\"#2a3f5f\",\"arrowhead\":0,\"arrowwidth\":1},\"autotypenumbers\":\"strict\",\"coloraxis\":{\"colorbar\":{\"outlinewidth\":0,\"ticks\":\"\"}},\"colorscale\":{\"diverging\":[[0,\"#8e0152\"],[0.1,\"#c51b7d\"],[0.2,\"#de77ae\"],[0.3,\"#f1b6da\"],[0.4,\"#fde0ef\"],[0.5,\"#f7f7f7\"],[0.6,\"#e6f5d0\"],[0.7,\"#b8e186\"],[0.8,\"#7fbc41\"],[0.9,\"#4d9221\"],[1,\"#276419\"]],\"sequential\":[[0.0,\"#0d0887\"],[0.1111111111111111,\"#46039f\"],[0.2222222222222222,\"#7201a8\"],[0.3333333333333333,\"#9c179e\"],[0.4444444444444444,\"#bd3786\"],[0.5555555555555556,\"#d8576b\"],[0.6666666666666666,\"#ed7953\"],[0.7777777777777778,\"#fb9f3a\"],[0.8888888888888888,\"#fdca26\"],[1.0,\"#f0f921\"]],\"sequentialminus\":[[0.0,\"#0d0887\"],[0.1111111111111111,\"#46039f\"],[0.2222222222222222,\"#7201a8\"],[0.3333333333333333,\"#9c179e\"],[0.4444444444444444,\"#bd3786\"],[0.5555555555555556,\"#d8576b\"],[0.6666666666666666,\"#ed7953\"],[0.7777777777777778,\"#fb9f3a\"],[0.8888888888888888,\"#fdca26\"],[1.0,\"#f0f921\"]]},\"colorway\":[\"#636efa\",\"#EF553B\",\"#00cc96\",\"#ab63fa\",\"#FFA15A\",\"#19d3f3\",\"#FF6692\",\"#B6E880\",\"#FF97FF\",\"#FECB52\"],\"font\":{\"color\":\"#2a3f5f\"},\"geo\":{\"bgcolor\":\"white\",\"lakecolor\":\"white\",\"landcolor\":\"#E5ECF6\",\"showlakes\":true,\"showland\":true,\"subunitcolor\":\"white\"},\"hoverlabel\":{\"align\":\"left\"},\"hovermode\":\"closest\",\"mapbox\":{\"style\":\"light\"},\"paper_bgcolor\":\"white\",\"plot_bgcolor\":\"#E5ECF6\",\"polar\":{\"angularaxis\":{\"gridcolor\":\"white\",\"linecolor\":\"white\",\"ticks\":\"\"},\"bgcolor\":\"#E5ECF6\",\"radialaxis\":{\"gridcolor\":\"white\",\"linecolor\":\"white\",\"ticks\":\"\"}},\"scene\":{\"xaxis\":{\"backgroundcolor\":\"#E5ECF6\",\"gridcolor\":\"white\",\"gridwidth\":2,\"linecolor\":\"white\",\"showbackground\":true,\"ticks\":\"\",\"zerolinecolor\":\"white\"},\"yaxis\":{\"backgroundcolor\":\"#E5ECF6\",\"gridcolor\":\"white\",\"gridwidth\":2,\"linecolor\":\"white\",\"showbackground\":true,\"ticks\":\"\",\"zerolinecolor\":\"white\"},\"zaxis\":{\"backgroundcolor\":\"#E5ECF6\",\"gridcolor\":\"white\",\"gridwidth\":2,\"linecolor\":\"white\",\"showbackground\":true,\"ticks\":\"\",\"zerolinecolor\":\"white\"}},\"shapedefaults\":{\"line\":{\"color\":\"#2a3f5f\"}},\"ternary\":{\"aaxis\":{\"gridcolor\":\"white\",\"linecolor\":\"white\",\"ticks\":\"\"},\"baxis\":{\"gridcolor\":\"white\",\"linecolor\":\"white\",\"ticks\":\"\"},\"bgcolor\":\"#E5ECF6\",\"caxis\":{\"gridcolor\":\"white\",\"linecolor\":\"white\",\"ticks\":\"\"}},\"title\":{\"x\":0.05},\"xaxis\":{\"automargin\":true,\"gridcolor\":\"white\",\"linecolor\":\"white\",\"ticks\":\"\",\"title\":{\"standoff\":15},\"zerolinecolor\":\"white\",\"zerolinewidth\":2},\"yaxis\":{\"automargin\":true,\"gridcolor\":\"white\",\"linecolor\":\"white\",\"ticks\":\"\",\"title\":{\"standoff\":15},\"zerolinecolor\":\"white\",\"zerolinewidth\":2}}},\"xaxis\":{\"anchor\":\"y\",\"domain\":[0.0,1.0],\"scaleanchor\":\"y\",\"constrain\":\"domain\"},\"yaxis\":{\"anchor\":\"x\",\"domain\":[0.0,1.0],\"autorange\":\"reversed\",\"constrain\":\"domain\"},\"coloraxis\":{\"colorscale\":[[0.0,\"#0d0887\"],[0.1111111111111111,\"#46039f\"],[0.2222222222222222,\"#7201a8\"],[0.3333333333333333,\"#9c179e\"],[0.4444444444444444,\"#bd3786\"],[0.5555555555555556,\"#d8576b\"],[0.6666666666666666,\"#ed7953\"],[0.7777777777777778,\"#fb9f3a\"],[0.8888888888888888,\"#fdca26\"],[1.0,\"#f0f921\"]],\"autocolorscale\":true},\"margin\":{\"t\":0,\"l\":0,\"r\":0,\"b\":0},\"height\":700,\"width\":1000},                        {\"responsive\": true}                    ).then(function(){\n",
       "                            \n",
       "var gd = document.getElementById('41cfe8bc-2a85-4f52-80e2-c19b893fe2c6');\n",
       "var x = new MutationObserver(function (mutations, observer) {{\n",
       "        var display = window.getComputedStyle(gd).display;\n",
       "        if (!display || display === 'none') {{\n",
       "            console.log([gd, 'removed!']);\n",
       "            Plotly.purge(gd);\n",
       "            observer.disconnect();\n",
       "        }}\n",
       "}});\n",
       "\n",
       "// Listen for the removal of the full notebook cells\n",
       "var notebookContainer = gd.closest('#notebook-container');\n",
       "if (notebookContainer) {{\n",
       "    x.observe(notebookContainer, {childList: true});\n",
       "}}\n",
       "\n",
       "// Listen for the clearing of the current output cell\n",
       "var outputEl = gd.closest('.output');\n",
       "if (outputEl) {{\n",
       "    x.observe(outputEl, {childList: true});\n",
       "}}\n",
       "\n",
       "                        })                };                });            </script>        </div>"
      ]
     },
     "metadata": {},
     "output_type": "display_data"
    }
   ],
   "source": [
    "corr_happiness = happiness.corr()\n",
    "fig = px.imshow(corr_happiness, text_auto=True)\n",
    "fig.update_layout(height=700, width=1000, margin={'l': 0, 'r': 0, 't': 0, 'b': 0})\n",
    "fig.update_coloraxes(autocolorscale=True)\n",
    "fig.show()"
   ]
  },
  {
   "cell_type": "code",
   "execution_count": 117,
   "id": "9943100d",
   "metadata": {},
   "outputs": [
    {
     "data": {
      "application/vnd.plotly.v1+json": {
       "config": {
        "plotlyServerURL": "https://plot.ly"
       },
       "data": [
        {
         "coloraxis": "coloraxis",
         "hovertemplate": "x: %{x}<br>y: %{y}<br>color: %{z}<extra></extra>",
         "name": "0",
         "texttemplate": "%{z}",
         "type": "heatmap",
         "x": [
          "Year",
          "Life Ladder",
          "Log GDP Per Capita",
          "Social Support",
          "Healthy Life Expectancy At Birth",
          "Freedom To Make Life Choices",
          "Generosity",
          "Perceptions Of Corruption",
          "Positive Affect",
          "Negative Affect"
         ],
         "xaxis": "x",
         "y": [
          "Year",
          "Life Ladder",
          "Log GDP Per Capita",
          "Social Support",
          "Healthy Life Expectancy At Birth",
          "Freedom To Make Life Choices",
          "Generosity",
          "Perceptions Of Corruption",
          "Positive Affect",
          "Negative Affect"
         ],
         "yaxis": "y",
         "z": [
          [
           null,
           null,
           null,
           null,
           null,
           null,
           null,
           null,
           null,
           null
          ],
          [
           null,
           1,
           0.7954504462481127,
           0.8360705744727459,
           0.7507691287360202,
           0.6364999820477796,
           0.0815262107738116,
           -0.4644780628611359,
           0.5887153203997187,
           -0.6449397188686142
          ],
          [
           null,
           0.7954504462481127,
           1,
           0.7789801330609719,
           0.8679337052059098,
           0.3893621799920834,
           -0.07352849733406093,
           -0.44811884881873043,
           0.21532542848280614,
           -0.6277823123733034
          ],
          [
           null,
           0.8360705744727459,
           0.7789801330609719,
           1,
           0.7351673163790036,
           0.5393088472898593,
           0.06039270272709273,
           -0.24169919812299143,
           0.46250991247922985,
           -0.6912766149913737
          ],
          [
           null,
           0.7507691287360202,
           0.8679337052059098,
           0.7351673163790036,
           1,
           0.4135987007933644,
           -0.06346664149805657,
           -0.3709296178616019,
           0.24993140272312211,
           -0.5579418610539749
          ],
          [
           null,
           0.6364999820477796,
           0.3893621799920834,
           0.5393088472898593,
           0.4135987007933644,
           1,
           0.2270763827915363,
           -0.37974199816102366,
           0.6087272251660696,
           -0.45443380985992204
          ],
          [
           null,
           0.0815262107738116,
           -0.07352849733406093,
           0.06039270272709273,
           -0.06346664149805657,
           0.2270763827915363,
           1,
           -0.25481539288797145,
           0.2222602600751103,
           0.008366221404110665
          ],
          [
           null,
           -0.4644780628611359,
           -0.44811884881873043,
           -0.24169919812299143,
           -0.3709296178616019,
           -0.37974199816102366,
           -0.25481539288797145,
           1,
           -0.2395121369864488,
           0.2928410911965953
          ],
          [
           null,
           0.5887153203997187,
           0.21532542848280614,
           0.46250991247922985,
           0.24993140272312211,
           0.6087272251660696,
           0.2222602600751103,
           -0.2395121369864488,
           1,
           -0.3917067930156395
          ],
          [
           null,
           -0.6449397188686142,
           -0.6277823123733034,
           -0.6912766149913737,
           -0.5579418610539749,
           -0.45443380985992204,
           0.008366221404110665,
           0.2928410911965953,
           -0.3917067930156395,
           1
          ]
         ]
        }
       ],
       "layout": {
        "coloraxis": {
         "autocolorscale": true,
         "colorscale": [
          [
           0,
           "#0d0887"
          ],
          [
           0.1111111111111111,
           "#46039f"
          ],
          [
           0.2222222222222222,
           "#7201a8"
          ],
          [
           0.3333333333333333,
           "#9c179e"
          ],
          [
           0.4444444444444444,
           "#bd3786"
          ],
          [
           0.5555555555555556,
           "#d8576b"
          ],
          [
           0.6666666666666666,
           "#ed7953"
          ],
          [
           0.7777777777777778,
           "#fb9f3a"
          ],
          [
           0.8888888888888888,
           "#fdca26"
          ],
          [
           1,
           "#f0f921"
          ]
         ]
        },
        "height": 800,
        "margin": {
         "b": 0,
         "l": 0,
         "r": 0,
         "t": 0
        },
        "template": {
         "data": {
          "bar": [
           {
            "error_x": {
             "color": "#2a3f5f"
            },
            "error_y": {
             "color": "#2a3f5f"
            },
            "marker": {
             "line": {
              "color": "#E5ECF6",
              "width": 0.5
             },
             "pattern": {
              "fillmode": "overlay",
              "size": 10,
              "solidity": 0.2
             }
            },
            "type": "bar"
           }
          ],
          "barpolar": [
           {
            "marker": {
             "line": {
              "color": "#E5ECF6",
              "width": 0.5
             },
             "pattern": {
              "fillmode": "overlay",
              "size": 10,
              "solidity": 0.2
             }
            },
            "type": "barpolar"
           }
          ],
          "carpet": [
           {
            "aaxis": {
             "endlinecolor": "#2a3f5f",
             "gridcolor": "white",
             "linecolor": "white",
             "minorgridcolor": "white",
             "startlinecolor": "#2a3f5f"
            },
            "baxis": {
             "endlinecolor": "#2a3f5f",
             "gridcolor": "white",
             "linecolor": "white",
             "minorgridcolor": "white",
             "startlinecolor": "#2a3f5f"
            },
            "type": "carpet"
           }
          ],
          "choropleth": [
           {
            "colorbar": {
             "outlinewidth": 0,
             "ticks": ""
            },
            "type": "choropleth"
           }
          ],
          "contour": [
           {
            "colorbar": {
             "outlinewidth": 0,
             "ticks": ""
            },
            "colorscale": [
             [
              0,
              "#0d0887"
             ],
             [
              0.1111111111111111,
              "#46039f"
             ],
             [
              0.2222222222222222,
              "#7201a8"
             ],
             [
              0.3333333333333333,
              "#9c179e"
             ],
             [
              0.4444444444444444,
              "#bd3786"
             ],
             [
              0.5555555555555556,
              "#d8576b"
             ],
             [
              0.6666666666666666,
              "#ed7953"
             ],
             [
              0.7777777777777778,
              "#fb9f3a"
             ],
             [
              0.8888888888888888,
              "#fdca26"
             ],
             [
              1,
              "#f0f921"
             ]
            ],
            "type": "contour"
           }
          ],
          "contourcarpet": [
           {
            "colorbar": {
             "outlinewidth": 0,
             "ticks": ""
            },
            "type": "contourcarpet"
           }
          ],
          "heatmap": [
           {
            "colorbar": {
             "outlinewidth": 0,
             "ticks": ""
            },
            "colorscale": [
             [
              0,
              "#0d0887"
             ],
             [
              0.1111111111111111,
              "#46039f"
             ],
             [
              0.2222222222222222,
              "#7201a8"
             ],
             [
              0.3333333333333333,
              "#9c179e"
             ],
             [
              0.4444444444444444,
              "#bd3786"
             ],
             [
              0.5555555555555556,
              "#d8576b"
             ],
             [
              0.6666666666666666,
              "#ed7953"
             ],
             [
              0.7777777777777778,
              "#fb9f3a"
             ],
             [
              0.8888888888888888,
              "#fdca26"
             ],
             [
              1,
              "#f0f921"
             ]
            ],
            "type": "heatmap"
           }
          ],
          "heatmapgl": [
           {
            "colorbar": {
             "outlinewidth": 0,
             "ticks": ""
            },
            "colorscale": [
             [
              0,
              "#0d0887"
             ],
             [
              0.1111111111111111,
              "#46039f"
             ],
             [
              0.2222222222222222,
              "#7201a8"
             ],
             [
              0.3333333333333333,
              "#9c179e"
             ],
             [
              0.4444444444444444,
              "#bd3786"
             ],
             [
              0.5555555555555556,
              "#d8576b"
             ],
             [
              0.6666666666666666,
              "#ed7953"
             ],
             [
              0.7777777777777778,
              "#fb9f3a"
             ],
             [
              0.8888888888888888,
              "#fdca26"
             ],
             [
              1,
              "#f0f921"
             ]
            ],
            "type": "heatmapgl"
           }
          ],
          "histogram": [
           {
            "marker": {
             "pattern": {
              "fillmode": "overlay",
              "size": 10,
              "solidity": 0.2
             }
            },
            "type": "histogram"
           }
          ],
          "histogram2d": [
           {
            "colorbar": {
             "outlinewidth": 0,
             "ticks": ""
            },
            "colorscale": [
             [
              0,
              "#0d0887"
             ],
             [
              0.1111111111111111,
              "#46039f"
             ],
             [
              0.2222222222222222,
              "#7201a8"
             ],
             [
              0.3333333333333333,
              "#9c179e"
             ],
             [
              0.4444444444444444,
              "#bd3786"
             ],
             [
              0.5555555555555556,
              "#d8576b"
             ],
             [
              0.6666666666666666,
              "#ed7953"
             ],
             [
              0.7777777777777778,
              "#fb9f3a"
             ],
             [
              0.8888888888888888,
              "#fdca26"
             ],
             [
              1,
              "#f0f921"
             ]
            ],
            "type": "histogram2d"
           }
          ],
          "histogram2dcontour": [
           {
            "colorbar": {
             "outlinewidth": 0,
             "ticks": ""
            },
            "colorscale": [
             [
              0,
              "#0d0887"
             ],
             [
              0.1111111111111111,
              "#46039f"
             ],
             [
              0.2222222222222222,
              "#7201a8"
             ],
             [
              0.3333333333333333,
              "#9c179e"
             ],
             [
              0.4444444444444444,
              "#bd3786"
             ],
             [
              0.5555555555555556,
              "#d8576b"
             ],
             [
              0.6666666666666666,
              "#ed7953"
             ],
             [
              0.7777777777777778,
              "#fb9f3a"
             ],
             [
              0.8888888888888888,
              "#fdca26"
             ],
             [
              1,
              "#f0f921"
             ]
            ],
            "type": "histogram2dcontour"
           }
          ],
          "mesh3d": [
           {
            "colorbar": {
             "outlinewidth": 0,
             "ticks": ""
            },
            "type": "mesh3d"
           }
          ],
          "parcoords": [
           {
            "line": {
             "colorbar": {
              "outlinewidth": 0,
              "ticks": ""
             }
            },
            "type": "parcoords"
           }
          ],
          "pie": [
           {
            "automargin": true,
            "type": "pie"
           }
          ],
          "scatter": [
           {
            "marker": {
             "colorbar": {
              "outlinewidth": 0,
              "ticks": ""
             }
            },
            "type": "scatter"
           }
          ],
          "scatter3d": [
           {
            "line": {
             "colorbar": {
              "outlinewidth": 0,
              "ticks": ""
             }
            },
            "marker": {
             "colorbar": {
              "outlinewidth": 0,
              "ticks": ""
             }
            },
            "type": "scatter3d"
           }
          ],
          "scattercarpet": [
           {
            "marker": {
             "colorbar": {
              "outlinewidth": 0,
              "ticks": ""
             }
            },
            "type": "scattercarpet"
           }
          ],
          "scattergeo": [
           {
            "marker": {
             "colorbar": {
              "outlinewidth": 0,
              "ticks": ""
             }
            },
            "type": "scattergeo"
           }
          ],
          "scattergl": [
           {
            "marker": {
             "colorbar": {
              "outlinewidth": 0,
              "ticks": ""
             }
            },
            "type": "scattergl"
           }
          ],
          "scattermapbox": [
           {
            "marker": {
             "colorbar": {
              "outlinewidth": 0,
              "ticks": ""
             }
            },
            "type": "scattermapbox"
           }
          ],
          "scatterpolar": [
           {
            "marker": {
             "colorbar": {
              "outlinewidth": 0,
              "ticks": ""
             }
            },
            "type": "scatterpolar"
           }
          ],
          "scatterpolargl": [
           {
            "marker": {
             "colorbar": {
              "outlinewidth": 0,
              "ticks": ""
             }
            },
            "type": "scatterpolargl"
           }
          ],
          "scatterternary": [
           {
            "marker": {
             "colorbar": {
              "outlinewidth": 0,
              "ticks": ""
             }
            },
            "type": "scatterternary"
           }
          ],
          "surface": [
           {
            "colorbar": {
             "outlinewidth": 0,
             "ticks": ""
            },
            "colorscale": [
             [
              0,
              "#0d0887"
             ],
             [
              0.1111111111111111,
              "#46039f"
             ],
             [
              0.2222222222222222,
              "#7201a8"
             ],
             [
              0.3333333333333333,
              "#9c179e"
             ],
             [
              0.4444444444444444,
              "#bd3786"
             ],
             [
              0.5555555555555556,
              "#d8576b"
             ],
             [
              0.6666666666666666,
              "#ed7953"
             ],
             [
              0.7777777777777778,
              "#fb9f3a"
             ],
             [
              0.8888888888888888,
              "#fdca26"
             ],
             [
              1,
              "#f0f921"
             ]
            ],
            "type": "surface"
           }
          ],
          "table": [
           {
            "cells": {
             "fill": {
              "color": "#EBF0F8"
             },
             "line": {
              "color": "white"
             }
            },
            "header": {
             "fill": {
              "color": "#C8D4E3"
             },
             "line": {
              "color": "white"
             }
            },
            "type": "table"
           }
          ]
         },
         "layout": {
          "annotationdefaults": {
           "arrowcolor": "#2a3f5f",
           "arrowhead": 0,
           "arrowwidth": 1
          },
          "autotypenumbers": "strict",
          "coloraxis": {
           "colorbar": {
            "outlinewidth": 0,
            "ticks": ""
           }
          },
          "colorscale": {
           "diverging": [
            [
             0,
             "#8e0152"
            ],
            [
             0.1,
             "#c51b7d"
            ],
            [
             0.2,
             "#de77ae"
            ],
            [
             0.3,
             "#f1b6da"
            ],
            [
             0.4,
             "#fde0ef"
            ],
            [
             0.5,
             "#f7f7f7"
            ],
            [
             0.6,
             "#e6f5d0"
            ],
            [
             0.7,
             "#b8e186"
            ],
            [
             0.8,
             "#7fbc41"
            ],
            [
             0.9,
             "#4d9221"
            ],
            [
             1,
             "#276419"
            ]
           ],
           "sequential": [
            [
             0,
             "#0d0887"
            ],
            [
             0.1111111111111111,
             "#46039f"
            ],
            [
             0.2222222222222222,
             "#7201a8"
            ],
            [
             0.3333333333333333,
             "#9c179e"
            ],
            [
             0.4444444444444444,
             "#bd3786"
            ],
            [
             0.5555555555555556,
             "#d8576b"
            ],
            [
             0.6666666666666666,
             "#ed7953"
            ],
            [
             0.7777777777777778,
             "#fb9f3a"
            ],
            [
             0.8888888888888888,
             "#fdca26"
            ],
            [
             1,
             "#f0f921"
            ]
           ],
           "sequentialminus": [
            [
             0,
             "#0d0887"
            ],
            [
             0.1111111111111111,
             "#46039f"
            ],
            [
             0.2222222222222222,
             "#7201a8"
            ],
            [
             0.3333333333333333,
             "#9c179e"
            ],
            [
             0.4444444444444444,
             "#bd3786"
            ],
            [
             0.5555555555555556,
             "#d8576b"
            ],
            [
             0.6666666666666666,
             "#ed7953"
            ],
            [
             0.7777777777777778,
             "#fb9f3a"
            ],
            [
             0.8888888888888888,
             "#fdca26"
            ],
            [
             1,
             "#f0f921"
            ]
           ]
          },
          "colorway": [
           "#636efa",
           "#EF553B",
           "#00cc96",
           "#ab63fa",
           "#FFA15A",
           "#19d3f3",
           "#FF6692",
           "#B6E880",
           "#FF97FF",
           "#FECB52"
          ],
          "font": {
           "color": "#2a3f5f"
          },
          "geo": {
           "bgcolor": "white",
           "lakecolor": "white",
           "landcolor": "#E5ECF6",
           "showlakes": true,
           "showland": true,
           "subunitcolor": "white"
          },
          "hoverlabel": {
           "align": "left"
          },
          "hovermode": "closest",
          "mapbox": {
           "style": "light"
          },
          "paper_bgcolor": "white",
          "plot_bgcolor": "#E5ECF6",
          "polar": {
           "angularaxis": {
            "gridcolor": "white",
            "linecolor": "white",
            "ticks": ""
           },
           "bgcolor": "#E5ECF6",
           "radialaxis": {
            "gridcolor": "white",
            "linecolor": "white",
            "ticks": ""
           }
          },
          "scene": {
           "xaxis": {
            "backgroundcolor": "#E5ECF6",
            "gridcolor": "white",
            "gridwidth": 2,
            "linecolor": "white",
            "showbackground": true,
            "ticks": "",
            "zerolinecolor": "white"
           },
           "yaxis": {
            "backgroundcolor": "#E5ECF6",
            "gridcolor": "white",
            "gridwidth": 2,
            "linecolor": "white",
            "showbackground": true,
            "ticks": "",
            "zerolinecolor": "white"
           },
           "zaxis": {
            "backgroundcolor": "#E5ECF6",
            "gridcolor": "white",
            "gridwidth": 2,
            "linecolor": "white",
            "showbackground": true,
            "ticks": "",
            "zerolinecolor": "white"
           }
          },
          "shapedefaults": {
           "line": {
            "color": "#2a3f5f"
           }
          },
          "ternary": {
           "aaxis": {
            "gridcolor": "white",
            "linecolor": "white",
            "ticks": ""
           },
           "baxis": {
            "gridcolor": "white",
            "linecolor": "white",
            "ticks": ""
           },
           "bgcolor": "#E5ECF6",
           "caxis": {
            "gridcolor": "white",
            "linecolor": "white",
            "ticks": ""
           }
          },
          "title": {
           "x": 0.05
          },
          "xaxis": {
           "automargin": true,
           "gridcolor": "white",
           "linecolor": "white",
           "ticks": "",
           "title": {
            "standoff": 15
           },
           "zerolinecolor": "white",
           "zerolinewidth": 2
          },
          "yaxis": {
           "automargin": true,
           "gridcolor": "white",
           "linecolor": "white",
           "ticks": "",
           "title": {
            "standoff": 15
           },
           "zerolinecolor": "white",
           "zerolinewidth": 2
          }
         }
        },
        "width": 900,
        "xaxis": {
         "anchor": "y",
         "constrain": "domain",
         "domain": [
          0,
          1
         ],
         "scaleanchor": "y"
        },
        "yaxis": {
         "anchor": "x",
         "autorange": "reversed",
         "constrain": "domain",
         "domain": [
          0,
          1
         ]
        }
       }
      },
      "text/html": [
       "<div>                            <div id=\"05207e1e-1808-4e2b-aa4b-4d5e223fa1d5\" class=\"plotly-graph-div\" style=\"height:800px; width:900px;\"></div>            <script type=\"text/javascript\">                require([\"plotly\"], function(Plotly) {                    window.PLOTLYENV=window.PLOTLYENV || {};                                    if (document.getElementById(\"05207e1e-1808-4e2b-aa4b-4d5e223fa1d5\")) {                    Plotly.newPlot(                        \"05207e1e-1808-4e2b-aa4b-4d5e223fa1d5\",                        [{\"coloraxis\":\"coloraxis\",\"name\":\"0\",\"texttemplate\":\"%{z}\",\"x\":[\"Year\",\"Life Ladder\",\"Log GDP Per Capita\",\"Social Support\",\"Healthy Life Expectancy At Birth\",\"Freedom To Make Life Choices\",\"Generosity\",\"Perceptions Of Corruption\",\"Positive Affect\",\"Negative Affect\"],\"y\":[\"Year\",\"Life Ladder\",\"Log GDP Per Capita\",\"Social Support\",\"Healthy Life Expectancy At Birth\",\"Freedom To Make Life Choices\",\"Generosity\",\"Perceptions Of Corruption\",\"Positive Affect\",\"Negative Affect\"],\"z\":[[null,null,null,null,null,null,null,null,null,null],[null,1.0,0.7954504462481127,0.8360705744727459,0.7507691287360202,0.6364999820477796,0.0815262107738116,-0.4644780628611359,0.5887153203997187,-0.6449397188686142],[null,0.7954504462481127,1.0,0.7789801330609719,0.8679337052059098,0.3893621799920834,-0.07352849733406093,-0.44811884881873043,0.21532542848280614,-0.6277823123733034],[null,0.8360705744727459,0.7789801330609719,1.0,0.7351673163790036,0.5393088472898593,0.06039270272709273,-0.24169919812299143,0.46250991247922985,-0.6912766149913737],[null,0.7507691287360202,0.8679337052059098,0.7351673163790036,1.0,0.4135987007933644,-0.06346664149805657,-0.3709296178616019,0.24993140272312211,-0.5579418610539749],[null,0.6364999820477796,0.3893621799920834,0.5393088472898593,0.4135987007933644,1.0,0.2270763827915363,-0.37974199816102366,0.6087272251660696,-0.45443380985992204],[null,0.0815262107738116,-0.07352849733406093,0.06039270272709273,-0.06346664149805657,0.2270763827915363,1.0,-0.25481539288797145,0.2222602600751103,0.008366221404110665],[null,-0.4644780628611359,-0.44811884881873043,-0.24169919812299143,-0.3709296178616019,-0.37974199816102366,-0.25481539288797145,1.0,-0.2395121369864488,0.2928410911965953],[null,0.5887153203997187,0.21532542848280614,0.46250991247922985,0.24993140272312211,0.6087272251660696,0.2222602600751103,-0.2395121369864488,1.0,-0.3917067930156395],[null,-0.6449397188686142,-0.6277823123733034,-0.6912766149913737,-0.5579418610539749,-0.45443380985992204,0.008366221404110665,0.2928410911965953,-0.3917067930156395,1.0]],\"type\":\"heatmap\",\"xaxis\":\"x\",\"yaxis\":\"y\",\"hovertemplate\":\"x: %{x}<br>y: %{y}<br>color: %{z}<extra></extra>\"}],                        {\"template\":{\"data\":{\"bar\":[{\"error_x\":{\"color\":\"#2a3f5f\"},\"error_y\":{\"color\":\"#2a3f5f\"},\"marker\":{\"line\":{\"color\":\"#E5ECF6\",\"width\":0.5},\"pattern\":{\"fillmode\":\"overlay\",\"size\":10,\"solidity\":0.2}},\"type\":\"bar\"}],\"barpolar\":[{\"marker\":{\"line\":{\"color\":\"#E5ECF6\",\"width\":0.5},\"pattern\":{\"fillmode\":\"overlay\",\"size\":10,\"solidity\":0.2}},\"type\":\"barpolar\"}],\"carpet\":[{\"aaxis\":{\"endlinecolor\":\"#2a3f5f\",\"gridcolor\":\"white\",\"linecolor\":\"white\",\"minorgridcolor\":\"white\",\"startlinecolor\":\"#2a3f5f\"},\"baxis\":{\"endlinecolor\":\"#2a3f5f\",\"gridcolor\":\"white\",\"linecolor\":\"white\",\"minorgridcolor\":\"white\",\"startlinecolor\":\"#2a3f5f\"},\"type\":\"carpet\"}],\"choropleth\":[{\"colorbar\":{\"outlinewidth\":0,\"ticks\":\"\"},\"type\":\"choropleth\"}],\"contour\":[{\"colorbar\":{\"outlinewidth\":0,\"ticks\":\"\"},\"colorscale\":[[0.0,\"#0d0887\"],[0.1111111111111111,\"#46039f\"],[0.2222222222222222,\"#7201a8\"],[0.3333333333333333,\"#9c179e\"],[0.4444444444444444,\"#bd3786\"],[0.5555555555555556,\"#d8576b\"],[0.6666666666666666,\"#ed7953\"],[0.7777777777777778,\"#fb9f3a\"],[0.8888888888888888,\"#fdca26\"],[1.0,\"#f0f921\"]],\"type\":\"contour\"}],\"contourcarpet\":[{\"colorbar\":{\"outlinewidth\":0,\"ticks\":\"\"},\"type\":\"contourcarpet\"}],\"heatmap\":[{\"colorbar\":{\"outlinewidth\":0,\"ticks\":\"\"},\"colorscale\":[[0.0,\"#0d0887\"],[0.1111111111111111,\"#46039f\"],[0.2222222222222222,\"#7201a8\"],[0.3333333333333333,\"#9c179e\"],[0.4444444444444444,\"#bd3786\"],[0.5555555555555556,\"#d8576b\"],[0.6666666666666666,\"#ed7953\"],[0.7777777777777778,\"#fb9f3a\"],[0.8888888888888888,\"#fdca26\"],[1.0,\"#f0f921\"]],\"type\":\"heatmap\"}],\"heatmapgl\":[{\"colorbar\":{\"outlinewidth\":0,\"ticks\":\"\"},\"colorscale\":[[0.0,\"#0d0887\"],[0.1111111111111111,\"#46039f\"],[0.2222222222222222,\"#7201a8\"],[0.3333333333333333,\"#9c179e\"],[0.4444444444444444,\"#bd3786\"],[0.5555555555555556,\"#d8576b\"],[0.6666666666666666,\"#ed7953\"],[0.7777777777777778,\"#fb9f3a\"],[0.8888888888888888,\"#fdca26\"],[1.0,\"#f0f921\"]],\"type\":\"heatmapgl\"}],\"histogram\":[{\"marker\":{\"pattern\":{\"fillmode\":\"overlay\",\"size\":10,\"solidity\":0.2}},\"type\":\"histogram\"}],\"histogram2d\":[{\"colorbar\":{\"outlinewidth\":0,\"ticks\":\"\"},\"colorscale\":[[0.0,\"#0d0887\"],[0.1111111111111111,\"#46039f\"],[0.2222222222222222,\"#7201a8\"],[0.3333333333333333,\"#9c179e\"],[0.4444444444444444,\"#bd3786\"],[0.5555555555555556,\"#d8576b\"],[0.6666666666666666,\"#ed7953\"],[0.7777777777777778,\"#fb9f3a\"],[0.8888888888888888,\"#fdca26\"],[1.0,\"#f0f921\"]],\"type\":\"histogram2d\"}],\"histogram2dcontour\":[{\"colorbar\":{\"outlinewidth\":0,\"ticks\":\"\"},\"colorscale\":[[0.0,\"#0d0887\"],[0.1111111111111111,\"#46039f\"],[0.2222222222222222,\"#7201a8\"],[0.3333333333333333,\"#9c179e\"],[0.4444444444444444,\"#bd3786\"],[0.5555555555555556,\"#d8576b\"],[0.6666666666666666,\"#ed7953\"],[0.7777777777777778,\"#fb9f3a\"],[0.8888888888888888,\"#fdca26\"],[1.0,\"#f0f921\"]],\"type\":\"histogram2dcontour\"}],\"mesh3d\":[{\"colorbar\":{\"outlinewidth\":0,\"ticks\":\"\"},\"type\":\"mesh3d\"}],\"parcoords\":[{\"line\":{\"colorbar\":{\"outlinewidth\":0,\"ticks\":\"\"}},\"type\":\"parcoords\"}],\"pie\":[{\"automargin\":true,\"type\":\"pie\"}],\"scatter\":[{\"marker\":{\"colorbar\":{\"outlinewidth\":0,\"ticks\":\"\"}},\"type\":\"scatter\"}],\"scatter3d\":[{\"line\":{\"colorbar\":{\"outlinewidth\":0,\"ticks\":\"\"}},\"marker\":{\"colorbar\":{\"outlinewidth\":0,\"ticks\":\"\"}},\"type\":\"scatter3d\"}],\"scattercarpet\":[{\"marker\":{\"colorbar\":{\"outlinewidth\":0,\"ticks\":\"\"}},\"type\":\"scattercarpet\"}],\"scattergeo\":[{\"marker\":{\"colorbar\":{\"outlinewidth\":0,\"ticks\":\"\"}},\"type\":\"scattergeo\"}],\"scattergl\":[{\"marker\":{\"colorbar\":{\"outlinewidth\":0,\"ticks\":\"\"}},\"type\":\"scattergl\"}],\"scattermapbox\":[{\"marker\":{\"colorbar\":{\"outlinewidth\":0,\"ticks\":\"\"}},\"type\":\"scattermapbox\"}],\"scatterpolar\":[{\"marker\":{\"colorbar\":{\"outlinewidth\":0,\"ticks\":\"\"}},\"type\":\"scatterpolar\"}],\"scatterpolargl\":[{\"marker\":{\"colorbar\":{\"outlinewidth\":0,\"ticks\":\"\"}},\"type\":\"scatterpolargl\"}],\"scatterternary\":[{\"marker\":{\"colorbar\":{\"outlinewidth\":0,\"ticks\":\"\"}},\"type\":\"scatterternary\"}],\"surface\":[{\"colorbar\":{\"outlinewidth\":0,\"ticks\":\"\"},\"colorscale\":[[0.0,\"#0d0887\"],[0.1111111111111111,\"#46039f\"],[0.2222222222222222,\"#7201a8\"],[0.3333333333333333,\"#9c179e\"],[0.4444444444444444,\"#bd3786\"],[0.5555555555555556,\"#d8576b\"],[0.6666666666666666,\"#ed7953\"],[0.7777777777777778,\"#fb9f3a\"],[0.8888888888888888,\"#fdca26\"],[1.0,\"#f0f921\"]],\"type\":\"surface\"}],\"table\":[{\"cells\":{\"fill\":{\"color\":\"#EBF0F8\"},\"line\":{\"color\":\"white\"}},\"header\":{\"fill\":{\"color\":\"#C8D4E3\"},\"line\":{\"color\":\"white\"}},\"type\":\"table\"}]},\"layout\":{\"annotationdefaults\":{\"arrowcolor\":\"#2a3f5f\",\"arrowhead\":0,\"arrowwidth\":1},\"autotypenumbers\":\"strict\",\"coloraxis\":{\"colorbar\":{\"outlinewidth\":0,\"ticks\":\"\"}},\"colorscale\":{\"diverging\":[[0,\"#8e0152\"],[0.1,\"#c51b7d\"],[0.2,\"#de77ae\"],[0.3,\"#f1b6da\"],[0.4,\"#fde0ef\"],[0.5,\"#f7f7f7\"],[0.6,\"#e6f5d0\"],[0.7,\"#b8e186\"],[0.8,\"#7fbc41\"],[0.9,\"#4d9221\"],[1,\"#276419\"]],\"sequential\":[[0.0,\"#0d0887\"],[0.1111111111111111,\"#46039f\"],[0.2222222222222222,\"#7201a8\"],[0.3333333333333333,\"#9c179e\"],[0.4444444444444444,\"#bd3786\"],[0.5555555555555556,\"#d8576b\"],[0.6666666666666666,\"#ed7953\"],[0.7777777777777778,\"#fb9f3a\"],[0.8888888888888888,\"#fdca26\"],[1.0,\"#f0f921\"]],\"sequentialminus\":[[0.0,\"#0d0887\"],[0.1111111111111111,\"#46039f\"],[0.2222222222222222,\"#7201a8\"],[0.3333333333333333,\"#9c179e\"],[0.4444444444444444,\"#bd3786\"],[0.5555555555555556,\"#d8576b\"],[0.6666666666666666,\"#ed7953\"],[0.7777777777777778,\"#fb9f3a\"],[0.8888888888888888,\"#fdca26\"],[1.0,\"#f0f921\"]]},\"colorway\":[\"#636efa\",\"#EF553B\",\"#00cc96\",\"#ab63fa\",\"#FFA15A\",\"#19d3f3\",\"#FF6692\",\"#B6E880\",\"#FF97FF\",\"#FECB52\"],\"font\":{\"color\":\"#2a3f5f\"},\"geo\":{\"bgcolor\":\"white\",\"lakecolor\":\"white\",\"landcolor\":\"#E5ECF6\",\"showlakes\":true,\"showland\":true,\"subunitcolor\":\"white\"},\"hoverlabel\":{\"align\":\"left\"},\"hovermode\":\"closest\",\"mapbox\":{\"style\":\"light\"},\"paper_bgcolor\":\"white\",\"plot_bgcolor\":\"#E5ECF6\",\"polar\":{\"angularaxis\":{\"gridcolor\":\"white\",\"linecolor\":\"white\",\"ticks\":\"\"},\"bgcolor\":\"#E5ECF6\",\"radialaxis\":{\"gridcolor\":\"white\",\"linecolor\":\"white\",\"ticks\":\"\"}},\"scene\":{\"xaxis\":{\"backgroundcolor\":\"#E5ECF6\",\"gridcolor\":\"white\",\"gridwidth\":2,\"linecolor\":\"white\",\"showbackground\":true,\"ticks\":\"\",\"zerolinecolor\":\"white\"},\"yaxis\":{\"backgroundcolor\":\"#E5ECF6\",\"gridcolor\":\"white\",\"gridwidth\":2,\"linecolor\":\"white\",\"showbackground\":true,\"ticks\":\"\",\"zerolinecolor\":\"white\"},\"zaxis\":{\"backgroundcolor\":\"#E5ECF6\",\"gridcolor\":\"white\",\"gridwidth\":2,\"linecolor\":\"white\",\"showbackground\":true,\"ticks\":\"\",\"zerolinecolor\":\"white\"}},\"shapedefaults\":{\"line\":{\"color\":\"#2a3f5f\"}},\"ternary\":{\"aaxis\":{\"gridcolor\":\"white\",\"linecolor\":\"white\",\"ticks\":\"\"},\"baxis\":{\"gridcolor\":\"white\",\"linecolor\":\"white\",\"ticks\":\"\"},\"bgcolor\":\"#E5ECF6\",\"caxis\":{\"gridcolor\":\"white\",\"linecolor\":\"white\",\"ticks\":\"\"}},\"title\":{\"x\":0.05},\"xaxis\":{\"automargin\":true,\"gridcolor\":\"white\",\"linecolor\":\"white\",\"ticks\":\"\",\"title\":{\"standoff\":15},\"zerolinecolor\":\"white\",\"zerolinewidth\":2},\"yaxis\":{\"automargin\":true,\"gridcolor\":\"white\",\"linecolor\":\"white\",\"ticks\":\"\",\"title\":{\"standoff\":15},\"zerolinecolor\":\"white\",\"zerolinewidth\":2}}},\"xaxis\":{\"anchor\":\"y\",\"domain\":[0.0,1.0],\"scaleanchor\":\"y\",\"constrain\":\"domain\"},\"yaxis\":{\"anchor\":\"x\",\"domain\":[0.0,1.0],\"autorange\":\"reversed\",\"constrain\":\"domain\"},\"coloraxis\":{\"colorscale\":[[0.0,\"#0d0887\"],[0.1111111111111111,\"#46039f\"],[0.2222222222222222,\"#7201a8\"],[0.3333333333333333,\"#9c179e\"],[0.4444444444444444,\"#bd3786\"],[0.5555555555555556,\"#d8576b\"],[0.6666666666666666,\"#ed7953\"],[0.7777777777777778,\"#fb9f3a\"],[0.8888888888888888,\"#fdca26\"],[1.0,\"#f0f921\"]],\"autocolorscale\":true},\"margin\":{\"t\":0,\"l\":0,\"r\":0,\"b\":0},\"height\":800,\"width\":900},                        {\"responsive\": true}                    ).then(function(){\n",
       "                            \n",
       "var gd = document.getElementById('05207e1e-1808-4e2b-aa4b-4d5e223fa1d5');\n",
       "var x = new MutationObserver(function (mutations, observer) {{\n",
       "        var display = window.getComputedStyle(gd).display;\n",
       "        if (!display || display === 'none') {{\n",
       "            console.log([gd, 'removed!']);\n",
       "            Plotly.purge(gd);\n",
       "            observer.disconnect();\n",
       "        }}\n",
       "}});\n",
       "\n",
       "// Listen for the removal of the full notebook cells\n",
       "var notebookContainer = gd.closest('#notebook-container');\n",
       "if (notebookContainer) {{\n",
       "    x.observe(notebookContainer, {childList: true});\n",
       "}}\n",
       "\n",
       "// Listen for the clearing of the current output cell\n",
       "var outputEl = gd.closest('.output');\n",
       "if (outputEl) {{\n",
       "    x.observe(outputEl, {childList: true});\n",
       "}}\n",
       "\n",
       "                        })                };                });            </script>        </div>"
      ]
     },
     "metadata": {},
     "output_type": "display_data"
    }
   ],
   "source": [
    "corr_happiness4 = happiness4.corr()\n",
    "fig = px.imshow(corr_happiness4, text_auto=True)\n",
    "fig.update_layout(height=800, width=900, margin={'l': 0, 'r': 0, 't': 0, 'b': 0})\n",
    "fig.update_coloraxes(autocolorscale=True)\n",
    "fig.show()"
   ]
  },
  {
   "cell_type": "code",
   "execution_count": 71,
   "id": "8a6894c3",
   "metadata": {},
   "outputs": [
    {
     "data": {
      "text/plain": [
       "<AxesSubplot:>"
      ]
     },
     "execution_count": 71,
     "metadata": {},
     "output_type": "execute_result"
    },
    {
     "data": {
      "image/png": "[encoded data removed]",
      "text/plain": [
       "<Figure size 792x648 with 2 Axes>"
      ]
     },
     "metadata": {
      "needs_background": "light"
     },
     "output_type": "display_data"
    }
   ],
   "source": [
    "corr = happiness.corr()\n",
    "plt.figure(figsize=(11, 9))\n",
    "sns.heatmap(corr, annot=True, cmap = 'summer_r')                         "
   ]
  }
 ],
 "metadata": {
  "kernelspec": {
   "display_name": "Python 3 (ipykernel)",
   "language": "python",
   "name": "python3"
  },
  "language_info": {
   "codemirror_mode": {
    "name": "ipython",
    "version": 3
   },
   "file_extension": ".py",
   "mimetype": "text/x-python",
   "name": "python",
   "nbconvert_exporter": "python",
   "pygments_lexer": "ipython3",
   "version": "3.9.12"
  }
 },
 "nbformat": 4,
 "nbformat_minor": 5
}
